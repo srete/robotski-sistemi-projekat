{
 "cells": [
  {
   "cell_type": "code",
   "execution_count": 1,
   "id": "0da56b0b",
   "metadata": {},
   "outputs": [],
   "source": [
    "from simulator import Simulation, SimulationConfig"
   ]
  },
  {
   "cell_type": "code",
   "execution_count": 2,
   "id": "ce0bc839",
   "metadata": {},
   "outputs": [],
   "source": [
    "from tp5.scenes import (buildSceneCubes, buildSceneRobotHand, buildSceneHouseOfCards, \n",
    "                        buildSceneQuadrupedOnHills, buildSceneHandAndStackedCubes, \n",
    "                        buildSceneTalosFallingCube,  buildSceneTriangleAndBall)"
   ]
  },
  {
   "cell_type": "markdown",
   "id": "1a0257f0",
   "metadata": {},
   "source": [
    "## Cubes"
   ]
  },
  {
   "cell_type": "code",
   "execution_count": 3,
   "id": "333a6e63",
   "metadata": {},
   "outputs": [
    {
     "name": "stdout",
     "output_type": "stream",
     "text": [
      "<coal.coal_pywrap.Box object at 0x7123597dc220>\n",
      "<coal.coal_pywrap.Box object at 0x7123597dc2c0>\n",
      "<coal.coal_pywrap.Box object at 0x7123597dc3b0>\n",
      "You can open the visualizer by visiting the following URL:\n",
      "http://127.0.0.1:7027/static/\n"
     ]
    }
   ],
   "source": [
    "# --- MODEL ---\n",
    "model, geom_model = buildSceneCubes(3)\n",
    "data = model.createData()\n",
    "geom_data = geom_model.createData()\n",
    "\n",
    "for req in geom_data.collisionRequests:\n",
    "    req.security_margin = 1e-2\n",
    "    req.num_max_contacts = 5\n",
    "    req.enable_contact = True\n",
    "\n",
    "\n",
    "# --- SIMULATION PARAMETERS ---\n",
    "DT = 1e-4\n",
    "DT_VISU = 1/50.\n",
    "DURATION = 2\n",
    "MU = 0.8\n",
    "MAX_STAGGERED_ITERS = 20\n",
    "STAGGERED_TOL = 1e-6\n",
    "ENABLE_CONTACT = True\n",
    "ENABLE_FRICTION = True\n",
    "\n",
    "RECORD_VIDEO = False\n",
    "FILE_NAME = \"cubes.mp4\"\n",
    "\n",
    "# Configure the simulation\n",
    "config = SimulationConfig(model, dt=DT, dt_visu=DT_VISU, duration=DURATION, \n",
    "                            mu=MU, max_staggered_iters=MAX_STAGGERED_ITERS, staggered_tol=STAGGERED_TOL,\n",
    "                            enable_contact=ENABLE_CONTACT, enable_friction=ENABLE_FRICTION,\n",
    "                            record_video=RECORD_VIDEO, video_filename=FILE_NAME) \n",
    "                            \n",
    "simulation = Simulation(config, model, data, geom_model, geom_data)"
   ]
  },
  {
   "cell_type": "code",
   "execution_count": 4,
   "id": "3bd398a8",
   "metadata": {},
   "outputs": [
    {
     "data": {
      "text/html": [
       "\n",
       "            <div style=\"height: 400px; width: 100%; overflow-x: auto; overflow-y: hidden; resize: both\">\n",
       "            <iframe src=\"http://127.0.0.1:7027/static/\" style=\"width: 100%; height: 100%; border: none\"></iframe>\n",
       "            </div>\n",
       "            "
      ],
      "text/plain": [
       "<IPython.core.display.HTML object>"
      ]
     },
     "execution_count": 4,
     "metadata": {},
     "output_type": "execute_result"
    }
   ],
   "source": [
    "simulation.viz.viewer.jupyter_cell()"
   ]
  },
  {
   "cell_type": "code",
   "execution_count": 5,
   "id": "7d3321d3",
   "metadata": {},
   "outputs": [],
   "source": [
    "simulation.run()"
   ]
  },
  {
   "cell_type": "markdown",
   "id": "cbb8d32f",
   "metadata": {},
   "source": [
    "## House of cards"
   ]
  },
  {
   "cell_type": "code",
   "execution_count": null,
   "id": "b5679e6f",
   "metadata": {},
   "outputs": [
    {
     "name": "stdout",
     "output_type": "stream",
     "text": [
      "You can open the visualizer by visiting the following URL:\n",
      "http://127.0.0.1:7004/static/\n"
     ]
    }
   ],
   "source": [
    "# --- MODEL ---\n",
    "model, geom_model = buildSceneHouseOfCards()\n",
    "data = model.createData()\n",
    "geom_data = geom_model.createData()\n",
    "\n",
    "for req in geom_data.collisionRequests:\n",
    "    req.security_margin = 1e-2\n",
    "    req.num_max_contacts = 10\n",
    "    req.enable_contact = True\n",
    "\n",
    "\n",
    "# --- SIMULATION PARAMETERS ---\n",
    "DT = 1e-4\n",
    "DT_VISU = 1/50.\n",
    "DURATION = 2\n",
    "MU = 0.8\n",
    "MAX_STAGGERED_ITERS = 20\n",
    "STAGGERED_TOL = 1e-6\n",
    "ENABLE_CONTACT = True\n",
    "ENABLE_FRICTION = True\n",
    "\n",
    "RECORD_VIDEO = False\n",
    "FILE_NAME = \"house_of_cards.mp4\"\n",
    "\n",
    "# Configure the simulation\n",
    "config = SimulationConfig(model, dt=DT, dt_visu=DT_VISU, duration=DURATION, \n",
    "                            mu=MU, max_staggered_iters=MAX_STAGGERED_ITERS, staggered_tol=STAGGERED_TOL,\n",
    "                            enable_contact=ENABLE_CONTACT, enable_friction=ENABLE_FRICTION,\n",
    "                            record_video=RECORD_VIDEO, video_filename=FILE_NAME) \n",
    "                            \n",
    "simulation = Simulation(config, model, data, geom_model, geom_data)"
   ]
  },
  {
   "cell_type": "code",
   "execution_count": null,
   "id": "19b059a2",
   "metadata": {},
   "outputs": [
    {
     "data": {
      "text/html": [
       "\n",
       "            <div style=\"height: 400px; width: 100%; overflow-x: auto; overflow-y: hidden; resize: both\">\n",
       "            <iframe src=\"http://127.0.0.1:7004/static/\" style=\"width: 100%; height: 100%; border: none\"></iframe>\n",
       "            </div>\n",
       "            "
      ],
      "text/plain": [
       "<IPython.core.display.HTML object>"
      ]
     },
     "execution_count": 11,
     "metadata": {},
     "output_type": "execute_result"
    }
   ],
   "source": [
    "simulation.viz.viewer.jupyter_cell()"
   ]
  },
  {
   "cell_type": "code",
   "execution_count": null,
   "id": "be5e2687",
   "metadata": {},
   "outputs": [],
   "source": [
    "simulation.run()"
   ]
  },
  {
   "cell_type": "markdown",
   "id": "21be7100",
   "metadata": {},
   "source": [
    "## Robotic hand"
   ]
  },
  {
   "cell_type": "code",
   "execution_count": null,
   "id": "dff1e016",
   "metadata": {},
   "outputs": [
    {
     "name": "stdout",
     "output_type": "stream",
     "text": [
      "You can open the visualizer by visiting the following URL:\n",
      "http://127.0.0.1:7027/static/\n"
     ]
    }
   ],
   "source": [
    "import numpy as np\n",
    "# --- MODEL ---\n",
    "model, geom_model = buildSceneRobotHand()\n",
    "data = model.createData()\n",
    "geom_data = geom_model.createData()\n",
    "\n",
    "for req in geom_data.collisionRequests:\n",
    "    req.security_margin = 1e-2\n",
    "    req.num_max_contacts = 10\n",
    "    req.enable_contact = True\n",
    "\n",
    "\n",
    "# --- SIMULATION PARAMETERS ---\n",
    "DT = 1e-4\n",
    "DT_VISU = 1/50.\n",
    "DURATION = 2\n",
    "MU = 0.8\n",
    "MAX_STAGGERED_ITERS = 20\n",
    "STAGGERED_TOL = 1e-6\n",
    "ENABLE_CONTACT = True\n",
    "ENABLE_FRICTION = True\n",
    "\n",
    "RECORD_VIDEO = False\n",
    "FILE_NAME = \"house_of_cards.mp4\"\n",
    "\n",
    "# Trajectory Reference\n",
    "from simulator import TrajRef\n",
    "\n",
    "q0 = model.referenceConfigurations['default']\n",
    "qdes = TrajRef(\n",
    "    q0,\n",
    "    omega=np.array([0, 0.1, 1, 1.5, 2.5, -1, -1.5, -2.5, 0.1, 0.2, 0.3, 0.4, 0.5, 0.6]),\n",
    "    amplitude=1.5,\n",
    ")\n",
    "\n",
    "# Configure the simulation\n",
    "config = SimulationConfig(model, dt=DT, dt_visu=DT_VISU, duration=DURATION, \n",
    "                            mu=MU, max_staggered_iters=MAX_STAGGERED_ITERS, staggered_tol=STAGGERED_TOL,\n",
    "                            enable_contact=ENABLE_CONTACT, enable_friction=ENABLE_FRICTION,\n",
    "                            record_video=RECORD_VIDEO, video_filename=FILE_NAME) \n",
    "                            \n",
    "simulation = Simulation(config, model, data, geom_model, geom_data, qdes=qdes)"
   ]
  },
  {
   "cell_type": "code",
   "execution_count": null,
   "id": "80fe8d9e",
   "metadata": {},
   "outputs": [],
   "source": [
    "simulation.viz.viewer.jupyter_cell()"
   ]
  },
  {
   "cell_type": "code",
   "execution_count": null,
   "id": "7c9feac5",
   "metadata": {},
   "outputs": [],
   "source": [
    "simulation.run()"
   ]
  },
  {
   "cell_type": "markdown",
   "id": "54d0cd4f",
   "metadata": {},
   "source": [
    "## Robotic hand and cubes"
   ]
  },
  {
   "cell_type": "code",
   "execution_count": 7,
   "id": "222cc6f1",
   "metadata": {},
   "outputs": [
    {
     "name": "stdout",
     "output_type": "stream",
     "text": [
      "You can open the visualizer by visiting the following URL:\n",
      "http://127.0.0.1:7027/static/\n"
     ]
    }
   ],
   "source": [
    "#--- MODEL ---\n",
    "model, geom_model, visual_model = buildSceneHandAndStackedCubes()\n",
    "data = model.createData()\n",
    "geom_data = geom_model.createData()\n",
    "\n",
    "for req in geom_data.collisionRequests:\n",
    "    req.security_margin = 1e-2\n",
    "    req.num_max_contacts = 10\n",
    "    req.enable_contact = True\n",
    "\n",
    "\n",
    "# --- SIMULATION PARAMETERS ---\n",
    "DT = 1e-4\n",
    "DT_VISU = 1/50.\n",
    "DURATION = 2\n",
    "MU = 0.8\n",
    "MAX_STAGGERED_ITERS = 20\n",
    "STAGGERED_TOL = 1e-6\n",
    "ENABLE_CONTACT = True\n",
    "ENABLE_FRICTION = True\n",
    "\n",
    "RECORD_VIDEO = False\n",
    "FILE_NAME = \"house_of_cards.mp4\"\n",
    "\n",
    "# Configure the simulation\n",
    "config = SimulationConfig(model, dt=DT, dt_visu=DT_VISU, duration=DURATION, \n",
    "                            mu=MU, max_staggered_iters=MAX_STAGGERED_ITERS, staggered_tol=STAGGERED_TOL,\n",
    "                            enable_contact=ENABLE_CONTACT, enable_friction=ENABLE_FRICTION,\n",
    "                            record_video=RECORD_VIDEO, video_filename=FILE_NAME) \n",
    "                            \n",
    "simulation = Simulation(config, model, data, geom_model, geom_data)"
   ]
  },
  {
   "cell_type": "code",
   "execution_count": null,
   "id": "93ac9a2b",
   "metadata": {},
   "outputs": [],
   "source": [
    "simulation.viz.viewer.jupyter_cell()"
   ]
  },
  {
   "cell_type": "code",
   "execution_count": 8,
   "id": "6f77e4cc",
   "metadata": {},
   "outputs": [
    {
     "ename": "KeyboardInterrupt",
     "evalue": "",
     "output_type": "error",
     "traceback": [
      "\u001b[31m---------------------------------------------------------------------------\u001b[39m",
      "\u001b[31mKeyboardInterrupt\u001b[39m                         Traceback (most recent call last)",
      "\u001b[36mCell\u001b[39m\u001b[36m \u001b[39m\u001b[32mIn[8]\u001b[39m\u001b[32m, line 1\u001b[39m\n\u001b[32m----> \u001b[39m\u001b[32m1\u001b[39m \u001b[43msimulation\u001b[49m\u001b[43m.\u001b[49m\u001b[43mrun\u001b[49m\u001b[43m(\u001b[49m\u001b[43m)\u001b[49m\n",
      "\u001b[36mFile \u001b[39m\u001b[32m~/robotski-sistemi-projekat/simulator.py:192\u001b[39m, in \u001b[36mSimulation.run\u001b[39m\u001b[34m(self)\u001b[39m\n\u001b[32m    190\u001b[39m C_friction = np.vstack([E, -np.eye(J_t.shape[\u001b[32m0\u001b[39m])])\n\u001b[32m    191\u001b[39m u_friction = np.hstack([\u001b[38;5;28mself\u001b[39m.config.MU * alpha, np.zeros(J_t.shape[\u001b[32m0\u001b[39m])])\n\u001b[32m--> \u001b[39m\u001b[32m192\u001b[39m \u001b[43mqp_friction\u001b[49m\u001b[43m.\u001b[49m\u001b[43minit\u001b[49m\u001b[43m(\u001b[49m\u001b[43mH\u001b[49m\u001b[43m=\u001b[49m\u001b[43mG_t\u001b[49m\u001b[43m,\u001b[49m\u001b[43m \u001b[49m\u001b[43mg\u001b[49m\u001b[43m=\u001b[49m\u001b[43mqp_g_t\u001b[49m\u001b[43m,\u001b[49m\u001b[43m \u001b[49m\u001b[43mA\u001b[49m\u001b[43m=\u001b[49m\u001b[38;5;28;43;01mNone\u001b[39;49;00m\u001b[43m,\u001b[49m\u001b[43m \u001b[49m\u001b[43mb\u001b[49m\u001b[43m=\u001b[49m\u001b[38;5;28;43;01mNone\u001b[39;49;00m\u001b[43m,\u001b[49m\u001b[43m \u001b[49m\u001b[43mC\u001b[49m\u001b[43m=\u001b[49m\u001b[43mC_friction\u001b[49m\u001b[43m,\u001b[49m\u001b[43m \u001b[49m\u001b[43mu\u001b[49m\u001b[43m=\u001b[49m\u001b[43mu_friction\u001b[49m\u001b[43m)\u001b[49m\n\u001b[32m    193\u001b[39m qp_friction.solve()\n\u001b[32m    194\u001b[39m beta = qp_friction.results.x\n",
      "\u001b[31mKeyboardInterrupt\u001b[39m: "
     ]
    }
   ],
   "source": [
    "simulation.run()"
   ]
  },
  {
   "cell_type": "markdown",
   "id": "b62d6426",
   "metadata": {},
   "source": [
    "## Quadruped"
   ]
  },
  {
   "cell_type": "code",
   "execution_count": 5,
   "id": "5b752d0b",
   "metadata": {},
   "outputs": [
    {
     "name": "stdout",
     "output_type": "stream",
     "text": [
      "You can open the visualizer by visiting the following URL:\n",
      "http://127.0.0.1:7027/static/\n"
     ]
    }
   ],
   "source": [
    "# --- MODEL ---\n",
    "model, geom_model = buildSceneQuadrupedOnHills()\n",
    "data = model.createData()\n",
    "geom_data = geom_model.createData()\n",
    "\n",
    "for req in geom_data.collisionRequests:\n",
    "    req.security_margin = 1e-2\n",
    "    req.num_max_contacts = 10\n",
    "    req.enable_contact = True\n",
    "\n",
    "\n",
    "# --- SIMULATION PARAMETERS ---\n",
    "DT = 1e-4\n",
    "DT_VISU = 1/50.\n",
    "DURATION = 2\n",
    "MU = 0.8\n",
    "MAX_STAGGERED_ITERS = 20\n",
    "STAGGERED_TOL = 1e-6\n",
    "ENABLE_CONTACT = True\n",
    "ENABLE_FRICTION = False\n",
    "\n",
    "RECORD_VIDEO = False\n",
    "FILE_NAME = \"quadruped.mp4\"\n",
    "\n",
    "# Configure the simulation\n",
    "config = SimulationConfig(model, dt=DT, dt_visu=DT_VISU, duration=DURATION, \n",
    "                            mu=MU, max_staggered_iters=MAX_STAGGERED_ITERS, staggered_tol=STAGGERED_TOL,\n",
    "                            enable_contact=ENABLE_CONTACT, enable_friction=ENABLE_FRICTION,\n",
    "                            record_video=RECORD_VIDEO, video_filename=FILE_NAME) \n",
    "                            \n",
    "simulation = Simulation(config, model, data, geom_model, geom_data)"
   ]
  },
  {
   "cell_type": "code",
   "execution_count": null,
   "id": "e8b74910",
   "metadata": {},
   "outputs": [],
   "source": [
    "simulation.viz.viewer.jupyter_cell()"
   ]
  },
  {
   "cell_type": "code",
   "execution_count": null,
   "id": "e997fe61",
   "metadata": {},
   "outputs": [],
   "source": [
    "simulation.run()"
   ]
  },
  {
   "cell_type": "markdown",
   "id": "bff7ce6b",
   "metadata": {},
   "source": [
    "## Pyramid and ball"
   ]
  },
  {
   "cell_type": "code",
   "execution_count": 9,
   "id": "727ee938",
   "metadata": {},
   "outputs": [
    {
     "name": "stdout",
     "output_type": "stream",
     "text": [
      "You can open the visualizer by visiting the following URL:\n",
      "http://127.0.0.1:7027/static/\n"
     ]
    }
   ],
   "source": [
    "# --- MODEL ---\n",
    "model, geom_model = buildSceneTriangleAndBall() \n",
    "data = model.createData()\n",
    "geom_data = geom_model.createData()\n",
    "\n",
    "for req in geom_data.collisionRequests:\n",
    "    req.security_margin = 1e-2\n",
    "    req.num_max_contacts = 10\n",
    "    req.enable_contact = True\n",
    "\n",
    "# --- SIMULATION PARAMETERS ---\n",
    "DT = 1e-4\n",
    "DT_VISU = 1/50.\n",
    "DURATION = 5\n",
    "MU = 0.8\n",
    "MAX_STAGGERED_ITERS = 20\n",
    "STAGGERED_TOL = 1e-6\n",
    "ENABLE_CONTACT = True\n",
    "ENABLE_FRICTION = True\n",
    "\n",
    "RECORD_VIDEO = False\n",
    "FILE_NAME = \"pyramid_and_ball.mp4\"\n",
    "\n",
    "# Initial velocity for the ball\n",
    "v0 = np.zeros(model.nv)\n",
    "ball_velocity_start_index = model.nv - 6\n",
    "v0[ball_velocity_start_index : ball_velocity_start_index + 3] = [0.0, -2.5, 0.0]\n",
    "\n",
    "# Configure the simulation\n",
    "config = SimulationConfig(model, dt=DT, dt_visu=DT_VISU, duration=DURATION, \n",
    "                            mu=MU, max_staggered_iters=MAX_STAGGERED_ITERS, staggered_tol=STAGGERED_TOL,\n",
    "                            enable_contact=ENABLE_CONTACT, enable_friction=ENABLE_FRICTION,\n",
    "                            record_video=RECORD_VIDEO, video_filename=FILE_NAME, initial_v=v0) \n",
    "                            \n",
    "simulation = Simulation(config, model, data, geom_model, geom_data)"
   ]
  },
  {
   "cell_type": "code",
   "execution_count": 10,
   "id": "e83d0126",
   "metadata": {},
   "outputs": [
    {
     "ename": "KeyboardInterrupt",
     "evalue": "",
     "output_type": "error",
     "traceback": [
      "\u001b[31m---------------------------------------------------------------------------\u001b[39m",
      "\u001b[31mKeyboardInterrupt\u001b[39m                         Traceback (most recent call last)",
      "\u001b[36mCell\u001b[39m\u001b[36m \u001b[39m\u001b[32mIn[10]\u001b[39m\u001b[32m, line 1\u001b[39m\n\u001b[32m----> \u001b[39m\u001b[32m1\u001b[39m \u001b[43msimulation\u001b[49m\u001b[43m.\u001b[49m\u001b[43mrun\u001b[49m\u001b[43m(\u001b[49m\u001b[43m)\u001b[49m\n",
      "\u001b[36mFile \u001b[39m\u001b[32m~/robotski-sistemi-projekat/simulator.py:193\u001b[39m, in \u001b[36mSimulation.run\u001b[39m\u001b[34m(self)\u001b[39m\n\u001b[32m    191\u001b[39m u_friction = np.hstack([\u001b[38;5;28mself\u001b[39m.config.MU * alpha, np.zeros(J_t.shape[\u001b[32m0\u001b[39m])])\n\u001b[32m    192\u001b[39m qp_friction.init(H=G_t, g=qp_g_t, A=\u001b[38;5;28;01mNone\u001b[39;00m, b=\u001b[38;5;28;01mNone\u001b[39;00m, C=C_friction, u=u_friction)\n\u001b[32m--> \u001b[39m\u001b[32m193\u001b[39m \u001b[43mqp_friction\u001b[49m\u001b[43m.\u001b[49m\u001b[43msolve\u001b[49m\u001b[43m(\u001b[49m\u001b[43m)\u001b[49m\n\u001b[32m    194\u001b[39m beta = qp_friction.results.x\n\u001b[32m    196\u001b[39m \u001b[38;5;66;03m# Check for convergence\u001b[39;00m\n",
      "\u001b[31mKeyboardInterrupt\u001b[39m: "
     ]
    }
   ],
   "source": [
    "\n",
    "simulation.run()"
   ]
  }
 ],
 "metadata": {
  "kernelspec": {
   "display_name": "robotski-sistemi-projekat",
   "language": "python",
   "name": "python3"
  },
  "language_info": {
   "codemirror_mode": {
    "name": "ipython",
    "version": 3
   },
   "file_extension": ".py",
   "mimetype": "text/x-python",
   "name": "python",
   "nbconvert_exporter": "python",
   "pygments_lexer": "ipython3",
   "version": "3.12.3"
  }
 },
 "nbformat": 4,
 "nbformat_minor": 5
}
