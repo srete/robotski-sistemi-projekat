{
 "cells": [
  {
   "cell_type": "code",
   "execution_count": 4,
   "id": "0da56b0b",
   "metadata": {},
   "outputs": [],
   "source": [
    "from simulator import Simulation, SimulationConfig"
   ]
  },
  {
   "cell_type": "code",
   "execution_count": null,
   "id": "ce0bc839",
   "metadata": {},
   "outputs": [],
   "source": [
    "from tp5.scenes import (buildSceneCubes, buildSceneRobotHand, buildSceneHouseOfCards, \n",
    "                        buildSceneQuadrupedOnHills, buildSceneHandAndStackedCubes, \n",
    "                        buildSceneTalosFallingCube,  buildSceneTriangleAndBall)"
   ]
  },
  {
   "cell_type": "markdown",
   "id": "1a0257f0",
   "metadata": {},
   "source": [
    "## Cubes"
   ]
  },
  {
   "cell_type": "code",
   "execution_count": null,
   "id": "333a6e63",
   "metadata": {},
   "outputs": [
    {
     "name": "stdout",
     "output_type": "stream",
     "text": [
      "<coal.coal_pywrap.Box object at 0x7ec9229a65c0>\n",
      "<coal.coal_pywrap.Box object at 0x7ec9229a61b0>\n",
      "<coal.coal_pywrap.Box object at 0x7ec9229a6250>\n",
      "You can open the visualizer by visiting the following URL:\n",
      "http://127.0.0.1:7003/static/\n"
     ]
    }
   ],
   "source": [
    "# --- MODEL ---\n",
    "model, geom_model = buildSceneCubes(3)\n",
    "data = model.createData()\n",
    "geom_data = geom_model.createData()\n",
    "\n",
    "for req in geom_data.collisionRequests:\n",
    "    req.security_margin = 1e-2\n",
    "    req.num_max_contacts = 5\n",
    "    req.enable_contact = True\n",
    "\n",
    "\n",
    "# --- SIMULATION PARAMETERS ---\n",
    "DT = 1e-4\n",
    "DT_VISU = 1/50.\n",
    "DURATION = 2\n",
    "MU = 0.8\n",
    "MAX_STAGGERED_ITERS = 20\n",
    "STAGGERED_TOL = 1e-6\n",
    "ENABLE_CONTACT = True\n",
    "ENABLE_FRICTION = True\n",
    "\n",
    "RECORD_VIDEO = False\n",
    "FILE_NAME = \"cubes.mp4\"\n",
    "\n",
    "# Configure the simulation\n",
    "config = SimulationConfig(model, dt=DT, dt_visu=DT_VISU, duration=DURATION, \n",
    "                            mu=MU, max_staggered_iters=MAX_STAGGERED_ITERS, staggered_tol=STAGGERED_TOL,\n",
    "                            enable_contact=ENABLE_CONTACT, enable_friction=ENABLE_FRICTION,\n",
    "                            record_video=RECORD_VIDEO, video_filename=FILE_NAME) \n",
    "                            \n",
    "simulation = Simulation(config, model, data, geom_model, geom_data)"
   ]
  },
  {
   "cell_type": "code",
   "execution_count": null,
   "id": "3bd398a8",
   "metadata": {},
   "outputs": [
    {
     "data": {
      "text/html": [
       "\n",
       "            <div style=\"height: 400px; width: 100%; overflow-x: auto; overflow-y: hidden; resize: both\">\n",
       "            <iframe src=\"http://127.0.0.1:7003/static/\" style=\"width: 100%; height: 100%; border: none\"></iframe>\n",
       "            </div>\n",
       "            "
      ],
      "text/plain": [
       "<IPython.core.display.HTML object>"
      ]
     },
     "execution_count": 7,
     "metadata": {},
     "output_type": "execute_result"
    }
   ],
   "source": [
    "simulation.viz.viewer.jupyter_cell()"
   ]
  },
  {
   "cell_type": "code",
   "execution_count": null,
   "id": "7d3321d3",
   "metadata": {},
   "outputs": [],
   "source": [
    "simulation.run()"
   ]
  },
  {
   "cell_type": "markdown",
   "id": "cbb8d32f",
   "metadata": {},
   "source": [
    "## House of cards"
   ]
  },
  {
   "cell_type": "code",
   "execution_count": null,
   "id": "b5679e6f",
   "metadata": {},
   "outputs": [
    {
     "name": "stdout",
     "output_type": "stream",
     "text": [
      "You can open the visualizer by visiting the following URL:\n",
      "http://127.0.0.1:7004/static/\n"
     ]
    }
   ],
   "source": [
    "# --- MODEL ---\n",
    "model, geom_model = buildSceneHouseOfCards()\n",
    "data = model.createData()\n",
    "geom_data = geom_model.createData()\n",
    "\n",
    "for req in geom_data.collisionRequests:\n",
    "    req.security_margin = 1e-2\n",
    "    req.num_max_contacts = 10\n",
    "    req.enable_contact = True\n",
    "\n",
    "\n",
    "# --- SIMULATION PARAMETERS ---\n",
    "DT = 1e-4\n",
    "DT_VISU = 1/50.\n",
    "DURATION = 2\n",
    "MU = 0.8\n",
    "MAX_STAGGERED_ITERS = 20\n",
    "STAGGERED_TOL = 1e-6\n",
    "ENABLE_CONTACT = True\n",
    "ENABLE_FRICTION = True\n",
    "\n",
    "RECORD_VIDEO = False\n",
    "FILE_NAME = \"house_of_cards.mp4\"\n",
    "\n",
    "# Configure the simulation\n",
    "config = SimulationConfig(model, dt=DT, dt_visu=DT_VISU, duration=DURATION, \n",
    "                            mu=MU, max_staggered_iters=MAX_STAGGERED_ITERS, staggered_tol=STAGGERED_TOL,\n",
    "                            enable_contact=ENABLE_CONTACT, enable_friction=ENABLE_FRICTION,\n",
    "                            record_video=RECORD_VIDEO, video_filename=FILE_NAME) \n",
    "                            \n",
    "simulation = Simulation(config, model, data, geom_model, geom_data)"
   ]
  },
  {
   "cell_type": "code",
   "execution_count": null,
   "id": "19b059a2",
   "metadata": {},
   "outputs": [
    {
     "data": {
      "text/html": [
       "\n",
       "            <div style=\"height: 400px; width: 100%; overflow-x: auto; overflow-y: hidden; resize: both\">\n",
       "            <iframe src=\"http://127.0.0.1:7004/static/\" style=\"width: 100%; height: 100%; border: none\"></iframe>\n",
       "            </div>\n",
       "            "
      ],
      "text/plain": [
       "<IPython.core.display.HTML object>"
      ]
     },
     "execution_count": 11,
     "metadata": {},
     "output_type": "execute_result"
    }
   ],
   "source": [
    "simulation.viz.viewer.jupyter_cell()"
   ]
  },
  {
   "cell_type": "code",
   "execution_count": null,
   "id": "be5e2687",
   "metadata": {},
   "outputs": [],
   "source": [
    "simulation.run()"
   ]
  },
  {
   "cell_type": "markdown",
   "id": "21be7100",
   "metadata": {},
   "source": [
    "## Robotic hand"
   ]
  },
  {
   "cell_type": "code",
   "execution_count": null,
   "id": "dff1e016",
   "metadata": {},
   "outputs": [],
   "source": [
    "# --- MODEL ---\n",
    "model, geom_model = buildSceneRobotHand()\n",
    "data = model.createData()\n",
    "geom_data = geom_model.createData()\n",
    "\n",
    "for req in geom_data.collisionRequests:\n",
    "    req.security_margin = 1e-2\n",
    "    req.num_max_contacts = 10\n",
    "    req.enable_contact = True\n",
    "\n",
    "\n",
    "# --- SIMULATION PARAMETERS ---\n",
    "DT = 1e-4\n",
    "DT_VISU = 1/50.\n",
    "DURATION = 2\n",
    "MU = 0.8\n",
    "MAX_STAGGERED_ITERS = 20\n",
    "STAGGERED_TOL = 1e-6\n",
    "ENABLE_CONTACT = True\n",
    "ENABLE_FRICTION = True\n",
    "\n",
    "RECORD_VIDEO = False\n",
    "FILE_NAME = \"house_of_cards.mp4\"\n",
    "\n",
    "# Configure the simulation\n",
    "config = SimulationConfig(model, dt=DT, dt_visu=DT_VISU, duration=DURATION, \n",
    "                            mu=MU, max_staggered_iters=MAX_STAGGERED_ITERS, staggered_tol=STAGGERED_TOL,\n",
    "                            enable_contact=ENABLE_CONTACT, enable_friction=ENABLE_FRICTION,\n",
    "                            record_video=RECORD_VIDEO, video_filename=FILE_NAME) \n",
    "                            \n",
    "simulation = Simulation(config, model, data, geom_model, geom_data)"
   ]
  },
  {
   "cell_type": "code",
   "execution_count": null,
   "id": "80fe8d9e",
   "metadata": {},
   "outputs": [],
   "source": [
    "simulation.viz.viewer.jupyter_cell()"
   ]
  },
  {
   "cell_type": "code",
   "execution_count": null,
   "id": "7c9feac5",
   "metadata": {},
   "outputs": [],
   "source": [
    "simulation.run()"
   ]
  },
  {
   "cell_type": "markdown",
   "id": "54d0cd4f",
   "metadata": {},
   "source": [
    "## Robotic hand and cubes"
   ]
  },
  {
   "cell_type": "code",
   "execution_count": null,
   "id": "222cc6f1",
   "metadata": {},
   "outputs": [],
   "source": [
    "#TODO: CHECK FUNCTION\n",
    "#--- MODEL ---\n",
    "model, geom_model = buildSceneHandAndStackedCubes()\n",
    "data = model.createData()\n",
    "geom_data = geom_model.createData()\n",
    "\n",
    "for req in geom_data.collisionRequests:\n",
    "    req.security_margin = 1e-2\n",
    "    req.num_max_contacts = 10\n",
    "    req.enable_contact = True\n",
    "\n",
    "\n",
    "# --- SIMULATION PARAMETERS ---\n",
    "DT = 1e-4\n",
    "DT_VISU = 1/50.\n",
    "DURATION = 2\n",
    "MU = 0.8\n",
    "MAX_STAGGERED_ITERS = 20\n",
    "STAGGERED_TOL = 1e-6\n",
    "ENABLE_CONTACT = True\n",
    "ENABLE_FRICTION = True\n",
    "\n",
    "RECORD_VIDEO = False\n",
    "FILE_NAME = \"house_of_cards.mp4\"\n",
    "\n",
    "# Configure the simulation\n",
    "config = SimulationConfig(model, dt=DT, dt_visu=DT_VISU, duration=DURATION, \n",
    "                            mu=MU, max_staggered_iters=MAX_STAGGERED_ITERS, staggered_tol=STAGGERED_TOL,\n",
    "                            enable_contact=ENABLE_CONTACT, enable_friction=ENABLE_FRICTION,\n",
    "                            record_video=RECORD_VIDEO, video_filename=FILE_NAME) \n",
    "                            \n",
    "simulation = Simulation(config, model, data, geom_model, geom_data)"
   ]
  },
  {
   "cell_type": "code",
   "execution_count": null,
   "id": "93ac9a2b",
   "metadata": {},
   "outputs": [],
   "source": [
    "simulation.viz.viewer.jupyter_cell()"
   ]
  },
  {
   "cell_type": "code",
   "execution_count": 3,
   "id": "6f77e4cc",
   "metadata": {},
   "outputs": [],
   "source": [
    "simulation.run()"
   ]
  },
  {
   "cell_type": "markdown",
   "id": "b62d6426",
   "metadata": {},
   "source": [
    "## Quadruped"
   ]
  },
  {
   "cell_type": "code",
   "execution_count": 2,
   "id": "5b752d0b",
   "metadata": {},
   "outputs": [
    {
     "name": "stdout",
     "output_type": "stream",
     "text": [
      "You can open the visualizer by visiting the following URL:\n",
      "http://127.0.0.1:7011/static/\n"
     ]
    }
   ],
   "source": [
    "# --- MODEL ---\n",
    "model, geom_model = buildSceneQuadrupedOnHills()\n",
    "data = model.createData()\n",
    "geom_data = geom_model.createData()\n",
    "\n",
    "for req in geom_data.collisionRequests:\n",
    "    req.security_margin = 1e-2\n",
    "    req.num_max_contacts = 10\n",
    "    req.enable_contact = True\n",
    "\n",
    "\n",
    "# --- SIMULATION PARAMETERS ---\n",
    "DT = 1e-4\n",
    "DT_VISU = 1/50.\n",
    "DURATION = 2\n",
    "MU = 0.8\n",
    "MAX_STAGGERED_ITERS = 20\n",
    "STAGGERED_TOL = 1e-6\n",
    "ENABLE_CONTACT = True\n",
    "ENABLE_FRICTION = False\n",
    "\n",
    "RECORD_VIDEO = False\n",
    "FILE_NAME = \"quadruped.mp4\"\n",
    "\n",
    "# Configure the simulation\n",
    "config = SimulationConfig(model, dt=DT, dt_visu=DT_VISU, duration=DURATION, \n",
    "                            mu=MU, max_staggered_iters=MAX_STAGGERED_ITERS, staggered_tol=STAGGERED_TOL,\n",
    "                            enable_contact=ENABLE_CONTACT, enable_friction=ENABLE_FRICTION,\n",
    "                            record_video=RECORD_VIDEO, video_filename=FILE_NAME) \n",
    "                            \n",
    "simulation = Simulation(config, model, data, geom_model, geom_data)"
   ]
  },
  {
   "cell_type": "code",
   "execution_count": null,
   "id": "e8b74910",
   "metadata": {},
   "outputs": [],
   "source": [
    "simulation.viz.viewer.jupyter_cell()"
   ]
  },
  {
   "cell_type": "code",
   "execution_count": null,
   "id": "e997fe61",
   "metadata": {},
   "outputs": [],
   "source": [
    "simulation.run()"
   ]
  },
  {
   "cell_type": "markdown",
   "id": "2b16c0a1",
   "metadata": {},
   "source": [
    "## Humanoid"
   ]
  },
  {
   "cell_type": "code",
   "execution_count": null,
   "id": "7d00ac61",
   "metadata": {},
   "outputs": [
    {
     "name": "stdout",
     "output_type": "stream",
     "text": [
      "You can open the visualizer by visiting the following URL:\n",
      "http://127.0.0.1:7011/static/\n",
      "You can open the visualizer by visiting the following URL:\n",
      "http://127.0.0.1:7012/static/\n"
     ]
    }
   ],
   "source": [
    "#TODO: CHECK FUNCTION\n",
    "# --- MODEL ---\n",
    "model, geom_model = buildSceneTalosFallingCube()\n",
    "data = model.createData()\n",
    "geom_data = geom_model.createData()\n",
    "\n",
    "for req in geom_data.collisionRequests:\n",
    "    req.security_margin = 1e-2\n",
    "    req.num_max_contacts = 10\n",
    "    req.enable_contact = True\n",
    "\n",
    "\n",
    "# --- SIMULATION PARAMETERS ---\n",
    "DT = 1e-4\n",
    "DT_VISU = 1/50.\n",
    "DURATION = 2\n",
    "MU = 0.8\n",
    "MAX_STAGGERED_ITERS = 20\n",
    "STAGGERED_TOL = 1e-6\n",
    "ENABLE_CONTACT = True\n",
    "ENABLE_FRICTION = True\n",
    "\n",
    "RECORD_VIDEO = False\n",
    "FILE_NAME = \"talos.mp4\"\n",
    "\n",
    "robot = load_robot(\"talos\") \n",
    "robot_model_only = robot.model\n",
    "nq_robot_only = robot_model_only.nq\n",
    "\n",
    "\n",
    "model, geom_model = buildSceneTalosFallingCube() \n",
    "data = model.createData()\n",
    "geom_data = geom_model.createData()\n",
    "\n",
    "\n",
    "class WalkingTraj:\n",
    "    \"\"\"\n",
    "    Generates a periodic, continuous-time walking trajectory for Talos,\n",
    "    compatible with the TrajRef callable interface.\n",
    "\n",
    "    The trajectory is kinematic and not dynamically stable. It repeats\n",
    "    a full walk cycle (left step + right step) indefinitely.\n",
    "    \"\"\"\n",
    "    def __init__(self, model, q0, step_length=0.2, step_height=0.15, frames_per_step=40):\n",
    "  \n",
    "        self.model = model\n",
    "        self.q0 = q0.copy()\n",
    "        \n",
    "        # Initialize state vectors\n",
    "        self.q = self.q0.copy()\n",
    "        self.v = np.zeros(self.model.nv)\n",
    "        self.a = np.zeros(self.model.nv)\n",
    "\n",
    "        # Time step for numerical differentiation\n",
    "        self.dt = 1e-4\n",
    "\n",
    "        # --- Pre-computation of the Walk Cycle ---\n",
    "        self.keyframes = [self.q0.copy()]\n",
    "        self.walk_cycle_duration = 2.0  # seconds for a full left+right step\n",
    "        \n",
    "        # Generate one full cycle (left step, then right step)\n",
    "        self._generate_step_keyframes(is_left_leg_swing=True, step_length=step_length, step_height=step_height, frames=frames_per_step)\n",
    "        self._generate_step_keyframes(is_left_leg_swing=False, step_length=step_length, step_height=step_height, frames=frames_per_step)\n",
    "        \n",
    "        self.num_segments = len(self.keyframes) - 1\n",
    "        self.segment_duration = self.walk_cycle_duration / self.num_segments\n",
    "        \n",
    "    def _generate_step_keyframes(self, is_left_leg_swing, step_length, step_height, frames):\n",
    "        \"\"\"Internal method to generate keyframes for a single step.\"\"\"\n",
    "        # Joint IDs\n",
    "        ids = {\n",
    "            'l_hip': self.model.getJointId(\"leg_left_2_joint\"), 'l_knee': self.model.getJointId(\"leg_left_4_joint\"),\n",
    "            'l_ankle': self.model.getJointId(\"leg_left_5_joint\"), 'r_hip': self.model.getJointId(\"leg_right_2_joint\"),\n",
    "            'r_knee': self.model.getJointId(\"leg_right_4_joint\"), 'r_ankle': self.model.getJointId(\"leg_right_5_joint\"),\n",
    "            'l_arm': self.model.getJointId(\"arm_left_2_joint\"), 'r_arm': self.model.getJointId(\"arm_right_2_joint\")\n",
    "        }\n",
    "        \n",
    "        q_start = self.keyframes[-1].copy()\n",
    "        q_end = q_start.copy()\n",
    "        q_end[0] += step_length\n",
    "        \n",
    "        q_mid_lift = q_start.copy()\n",
    "        q_mid_lift[0] += step_length / 2.0\n",
    "        \n",
    "        swing_ids = ('l_hip', 'l_knee', 'l_ankle') if is_left_leg_swing else ('r_hip', 'r_knee', 'r_ankle')\n",
    "        stance_id = 'r_ankle' if is_left_leg_swing else 'l_ankle'\n",
    "        \n",
    "        # Create lifting pose\n",
    "        q_mid_lift[ids[swing_ids[0]]] -= step_height\n",
    "        q_mid_lift[ids[swing_ids[1]]] += 2 * step_height\n",
    "        q_mid_lift[ids[swing_ids[2]]] -= step_height\n",
    "        q_mid_lift[ids[stance_id]] += 0.1\n",
    "\n",
    "        for i in range(frames // 2):\n",
    "            alpha = float(i) / (frames / 2)\n",
    "            self.keyframes.append(pin.interpolate(self.model, q_start, q_mid_lift, alpha))\n",
    "        for i in range(frames // 2):\n",
    "            alpha = float(i) / (frames / 2)\n",
    "            self.keyframes.append(pin.interpolate(self.model, q_mid_lift, q_end, alpha))\n",
    "\n",
    "    def position(self, t):\n",
    "        # Make the time periodic\n",
    "        cycle_t = t % self.walk_cycle_duration\n",
    "        \n",
    "        # Find which segment and what is the interpolation alpha\n",
    "        segment_index = int(cycle_t / self.segment_duration)\n",
    "        if segment_index >= self.num_segments: segment_index = self.num_segments - 1 # Clamp to last segment\n",
    "            \n",
    "        t_start_segment = segment_index * self.segment_duration\n",
    "        alpha = (cycle_t - t_start_segment) / self.segment_duration\n",
    "        \n",
    "        q_start = self.keyframes[segment_index]\n",
    "        q_end = self.keyframes[segment_index + 1]\n",
    "        \n",
    "        self.q = pin.interpolate(self.model, q_start, q_end, alpha)\n",
    "        return self.q\n",
    "\n",
    "    def velocity(self, t):\n",
    "        \"\"\"Compute and return the reference velocity at time <t>.\"\"\"\n",
    "        q_t = self.position(t)\n",
    "        q_t_plus_dt = self.position(t + self.dt)\n",
    "        \n",
    "        self.v = pin.difference(self.model, q_t, q_t_plus_dt) / self.dt\n",
    "        return self.v\n",
    "\n",
    "    def acceleration(self, t):\n",
    "        \"\"\"Compute and return the reference acceleration at time <t>.\"\"\"\n",
    "        v_t = self.velocity(t)\n",
    "        v_t_plus_dt = self.velocity(t + self.dt)\n",
    "        \n",
    "        self.a = (v_t_plus_dt - v_t) / self.dt\n",
    "        return self.a\n",
    "\n",
    "    def __call__(self, t):\n",
    "        \"\"\"Makes the object callable, returning position by default.\"\"\"\n",
    "        return self.position(t)\n",
    "\n",
    "    def copy(self):\n",
    "        \"\"\"Returns a copy of the last computed position q.\"\"\"\n",
    "        return self.q.copy()\n",
    "    \n",
    "class CombinedTrajectory:\n",
    "    \"\"\"\n",
    "    A wrapper to combine a trajectory for the robot with a static reference\n",
    "    for other objects in the scene (like a falling cube).\n",
    "    \"\"\"\n",
    "    def __init__(self, robot_model, q0_robot, q0_cube, walking_traj_params):\n",
    "    \n",
    "        self.robot_traj = WalkingTraj(robot_model, q0_robot, **walking_traj_params)\n",
    "        \n",
    "        self.q0_cube = q0_cube.copy()\n",
    "        \n",
    "        self.nq_robot = robot_model.nq\n",
    "        self.nv_robot = robot_model.nv\n",
    "        self.nq_cube = q0_cube.shape[0]\n",
    "        self.nv_cube = 6 \n",
    "        \n",
    "    def position(self, t):\n",
    "        q_robot = self.robot_traj.position(t)\n",
    "        return np.concatenate([q_robot, self.q0_cube])\n",
    "\n",
    "    def velocity(self, t):\n",
    "        v_robot = self.robot_traj.velocity(t)\n",
    "        v_cube = np.zeros(self.nv_cube) \n",
    "        return np.concatenate([v_robot, v_cube])\n",
    "\n",
    "    def acceleration(self, t):\n",
    "        a_robot = self.robot_traj.acceleration(t)\n",
    "        a_cube = np.zeros(self.nv_cube) \n",
    "        return np.concatenate([a_robot, a_cube])\n",
    "\n",
    "    def __call__(self, t):\n",
    "        return self.position(t)\n",
    "\n",
    "walking_params = {\n",
    "    \"step_length\": 0.2,\n",
    "    \"step_height\": 0.15,\n",
    "    \"frames_per_step\": 50\n",
    "}\n",
    "\n",
    "q0_full = model.referenceConfigurations[\"default\"]\n",
    "q0_robot = q0_full[:nq_robot_only]\n",
    "q0_cube = q0_full[nq_robot_only:]\n",
    "qdes = CombinedTrajectory(robot_model_only, q0_robot, q0_cube, walking_params)\n",
    "\n",
    "\n",
    "\n",
    "config = SimulationConfig(model, dt=DT, dt_visu=DT_VISU, duration=DURATION, \n",
    "                            mu=MU, max_staggered_iters=MAX_STAGGERED_ITERS, staggered_tol=STAGGERED_TOL,\n",
    "                            enable_contact=ENABLE_CONTACT, enable_friction=ENABLE_FRICTION,\n",
    "                            record_video=RECORD_VIDEO, video_filename=FILE_NAME) \n",
    "                            \n",
    "simulation = Simulation(config, model, data, geom_model, geom_data, qdes=qdes)"
   ]
  },
  {
   "cell_type": "code",
   "execution_count": null,
   "id": "1009e2bd",
   "metadata": {},
   "outputs": [],
   "source": [
    "simulation.viz.viewer.jupyter_cell()"
   ]
  },
  {
   "cell_type": "code",
   "execution_count": 24,
   "id": "285f8884",
   "metadata": {},
   "outputs": [
    {
     "name": "stdout",
     "output_type": "stream",
     "text": [
      "Loading Talos robot model...\n",
      "You can open the visualizer by visiting the following URL:\n",
      "http://127.0.0.1:7022/static/\n",
      "Generating walking trajectory...\n",
      "Starting kinematic animation loop...\n",
      "Animation finished.\n"
     ]
    }
   ],
   "source": [
    "from schaeffler2025.meshcat_viewer_wrapper import MeshcatVisualizer\n",
    "import time\n",
    "import meshcat\n",
    "from example_robot_data.robots_loader import load as load_robot\n",
    "\n",
    "\n",
    "print(\"Loading Talos robot model...\")\n",
    "robot = load_robot(\"talos\")\n",
    "robot_model_only = robot.model\n",
    "viz = MeshcatVisualizer(robot)\n",
    "\n",
    "nq_robot_only = robot_model_only.nq\n",
    "\n",
    "q0 = model.referenceConfigurations[\"default\"]\n",
    "q0_robot = q0_full[:nq_robot_only]\n",
    "\n",
    "print(\"Generating walking trajectory...\")\n",
    "traj = WalkingTraj(robot_model_only, q0_robot)\n",
    "\n",
    "print(\"Starting kinematic animation loop...\")\n",
    "DURATION = 6.0  \n",
    "DT = 1/50.0     \n",
    "\n",
    "num_steps = int(DURATION / DT)\n",
    "\n",
    "for i in range(num_steps):\n",
    "    t = i * DT\n",
    "    \n",
    "    q = traj.position(t)\n",
    "    \n",
    "    viz.display(q)\n",
    "    time.sleep(DT)\n",
    "\n",
    "print(\"Animation finished.\")"
   ]
  },
  {
   "cell_type": "code",
   "execution_count": null,
   "id": "f8511532",
   "metadata": {},
   "outputs": [],
   "source": [
    "simulation.run()"
   ]
  },
  {
   "cell_type": "markdown",
   "id": "bff7ce6b",
   "metadata": {},
   "source": [
    "## Pyramid and ball"
   ]
  },
  {
   "cell_type": "code",
   "execution_count": 3,
   "id": "727ee938",
   "metadata": {},
   "outputs": [
    {
     "name": "stdout",
     "output_type": "stream",
     "text": [
      "You can open the visualizer by visiting the following URL:\n",
      "http://127.0.0.1:7011/static/\n"
     ]
    }
   ],
   "source": [
    "# --- MODEL ---\n",
    "model, geom_model = buildSceneTriangleAndBall() \n",
    "data = model.createData()\n",
    "geom_data = geom_model.createData()\n",
    "\n",
    "for req in geom_data.collisionRequests:\n",
    "    req.security_margin = 1e-2\n",
    "    req.num_max_contacts = 10\n",
    "    req.enable_contact = True\n",
    "\n",
    "# --- SIMULATION PARAMETERS ---\n",
    "DT = 1e-4\n",
    "DT_VISU = 1/50.\n",
    "DURATION = 5\n",
    "MU = 0.8\n",
    "MAX_STAGGERED_ITERS = 20\n",
    "STAGGERED_TOL = 1e-6\n",
    "ENABLE_CONTACT = True\n",
    "ENABLE_FRICTION = True\n",
    "\n",
    "RECORD_VIDEO = False\n",
    "FILE_NAME = \"pyramid_and_ball.mp4\"\n",
    "\n",
    "# Initial velocity for the ball\n",
    "v0 = np.zeros(model.nv)\n",
    "ball_velocity_start_index = model.nv - 6\n",
    "v0[ball_velocity_start_index : ball_velocity_start_index + 3] = [0.0, -2.5, 0.0]\n",
    "\n",
    "# Configure the simulation\n",
    "config = SimulationConfig(model, dt=DT, dt_visu=DT_VISU, duration=DURATION, \n",
    "                            mu=MU, max_staggered_iters=MAX_STAGGERED_ITERS, staggered_tol=STAGGERED_TOL,\n",
    "                            enable_contact=ENABLE_CONTACT, enable_friction=ENABLE_FRICTION,\n",
    "                            record_video=RECORD_VIDEO, video_filename=FILE_NAME, initial_v=v0) \n",
    "                            \n",
    "simulation = Simulation(config, model, data, geom_model, geom_data)"
   ]
  },
  {
   "cell_type": "code",
   "execution_count": null,
   "id": "e83d0126",
   "metadata": {},
   "outputs": [],
   "source": [
    "\n",
    "simulation.run()"
   ]
  }
 ],
 "metadata": {
  "kernelspec": {
   "display_name": "RobotskiSistemi",
   "language": "python",
   "name": "python3"
  },
  "language_info": {
   "codemirror_mode": {
    "name": "ipython",
    "version": 3
   },
   "file_extension": ".py",
   "mimetype": "text/x-python",
   "name": "python",
   "nbconvert_exporter": "python",
   "pygments_lexer": "ipython3",
   "version": "3.12.3"
  }
 },
 "nbformat": 4,
 "nbformat_minor": 5
}
