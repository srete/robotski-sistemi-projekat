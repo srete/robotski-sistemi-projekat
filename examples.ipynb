{
 "cells": [
  {
   "cell_type": "code",
   "execution_count": 1,
   "id": "0da56b0b",
   "metadata": {},
   "outputs": [],
   "source": [
    "from simulator import Simulation, SimulationConfig"
   ]
  },
  {
   "cell_type": "code",
   "execution_count": 2,
   "id": "ce0bc839",
   "metadata": {},
   "outputs": [],
   "source": [
    "from tp5.scenes import buildSceneCubes, buildSceneRobotHand, buildSceneHouseOfCards"
   ]
  },
  {
   "cell_type": "markdown",
   "id": "1a0257f0",
   "metadata": {},
   "source": [
    "## Cubes"
   ]
  },
  {
   "cell_type": "code",
   "execution_count": 6,
   "id": "333a6e63",
   "metadata": {},
   "outputs": [
    {
     "name": "stdout",
     "output_type": "stream",
     "text": [
      "<coal.coal_pywrap.Box object at 0x7ec9229a65c0>\n",
      "<coal.coal_pywrap.Box object at 0x7ec9229a61b0>\n",
      "<coal.coal_pywrap.Box object at 0x7ec9229a6250>\n",
      "You can open the visualizer by visiting the following URL:\n",
      "http://127.0.0.1:7003/static/\n"
     ]
    }
   ],
   "source": [
    "# --- MODEL ---\n",
    "model, geom_model = buildSceneCubes(3)\n",
    "data = model.createData()\n",
    "geom_data = geom_model.createData()\n",
    "\n",
    "for req in geom_data.collisionRequests:\n",
    "    req.security_margin = 1e-2\n",
    "    req.num_max_contacts = 5\n",
    "    req.enable_contact = True\n",
    "\n",
    "\n",
    "# --- SIMULATION PARAMETERS ---\n",
    "DT = 1e-4\n",
    "DT_VISU = 1/50.\n",
    "DURATION = 2\n",
    "MU = 0.8\n",
    "MAX_STAGGERED_ITERS = 20\n",
    "STAGGERED_TOL = 1e-6\n",
    "ENABLE_CONTACT = True\n",
    "ENABLE_FRICTION = True\n",
    "\n",
    "RECORD_VIDEO = False\n",
    "FILE_NAME = \"cubes.mp4\"\n",
    "\n",
    "# Configure the simulation\n",
    "config = SimulationConfig(model, dt=DT, dt_visu=DT_VISU, duration=DURATION, \n",
    "                            mu=MU, max_staggered_iters=MAX_STAGGERED_ITERS, staggered_tol=STAGGERED_TOL,\n",
    "                            enable_contact=ENABLE_CONTACT, enable_friction=ENABLE_FRICTION,\n",
    "                            record_video=RECORD_VIDEO, video_filename=FILE_NAME) \n",
    "                            \n",
    "simulation = Simulation(config, model, data, geom_model, geom_data)"
   ]
  },
  {
   "cell_type": "code",
   "execution_count": 7,
   "id": "3bd398a8",
   "metadata": {},
   "outputs": [
    {
     "data": {
      "text/html": [
       "\n",
       "            <div style=\"height: 400px; width: 100%; overflow-x: auto; overflow-y: hidden; resize: both\">\n",
       "            <iframe src=\"http://127.0.0.1:7003/static/\" style=\"width: 100%; height: 100%; border: none\"></iframe>\n",
       "            </div>\n",
       "            "
      ],
      "text/plain": [
       "<IPython.core.display.HTML object>"
      ]
     },
     "execution_count": 7,
     "metadata": {},
     "output_type": "execute_result"
    }
   ],
   "source": [
    "simulation.viz.viewer.jupyter_cell()"
   ]
  },
  {
   "cell_type": "code",
   "execution_count": 8,
   "id": "7d3321d3",
   "metadata": {},
   "outputs": [],
   "source": [
    "simulation.run()"
   ]
  },
  {
   "cell_type": "markdown",
   "id": "cbb8d32f",
   "metadata": {},
   "source": [
    "## House of cards"
   ]
  },
  {
   "cell_type": "code",
   "execution_count": 9,
   "id": "b5679e6f",
   "metadata": {},
   "outputs": [
    {
     "name": "stdout",
     "output_type": "stream",
     "text": [
      "You can open the visualizer by visiting the following URL:\n",
      "http://127.0.0.1:7004/static/\n"
     ]
    }
   ],
   "source": [
    "# --- MODEL ---\n",
    "model, geom_model = buildSceneHouseOfCards()\n",
    "data = model.createData()\n",
    "geom_data = geom_model.createData()\n",
    "\n",
    "for req in geom_data.collisionRequests:\n",
    "    req.security_margin = 1e-2\n",
    "    req.num_max_contacts = 10\n",
    "    req.enable_contact = True\n",
    "\n",
    "\n",
    "# --- SIMULATION PARAMETERS ---\n",
    "DT = 1e-4\n",
    "DT_VISU = 1/50.\n",
    "DURATION = 2\n",
    "MU = 0.8\n",
    "MAX_STAGGERED_ITERS = 20\n",
    "STAGGERED_TOL = 1e-6\n",
    "ENABLE_CONTACT = True\n",
    "ENABLE_FRICTION = True\n",
    "\n",
    "RECORD_VIDEO = False\n",
    "FILE_NAME = \"house_of_cards.mp4\"\n",
    "\n",
    "# Configure the simulation\n",
    "config = SimulationConfig(model, dt=DT, dt_visu=DT_VISU, duration=DURATION, \n",
    "                            mu=MU, max_staggered_iters=MAX_STAGGERED_ITERS, staggered_tol=STAGGERED_TOL,\n",
    "                            enable_contact=ENABLE_CONTACT, enable_friction=ENABLE_FRICTION,\n",
    "                            record_video=RECORD_VIDEO, video_filename=FILE_NAME) \n",
    "                            \n",
    "simulation = Simulation(config, model, data, geom_model, geom_data)"
   ]
  },
  {
   "cell_type": "code",
   "execution_count": 11,
   "id": "19b059a2",
   "metadata": {},
   "outputs": [
    {
     "data": {
      "text/html": [
       "\n",
       "            <div style=\"height: 400px; width: 100%; overflow-x: auto; overflow-y: hidden; resize: both\">\n",
       "            <iframe src=\"http://127.0.0.1:7004/static/\" style=\"width: 100%; height: 100%; border: none\"></iframe>\n",
       "            </div>\n",
       "            "
      ],
      "text/plain": [
       "<IPython.core.display.HTML object>"
      ]
     },
     "execution_count": 11,
     "metadata": {},
     "output_type": "execute_result"
    }
   ],
   "source": [
    "simulation.viz.viewer.jupyter_cell()"
   ]
  },
  {
   "cell_type": "code",
   "execution_count": null,
   "id": "be5e2687",
   "metadata": {},
   "outputs": [],
   "source": [
    "simulation.run()"
   ]
  },
  {
   "cell_type": "markdown",
   "id": "21be7100",
   "metadata": {},
   "source": [
    "## Robotic hand"
   ]
  },
  {
   "cell_type": "code",
   "execution_count": null,
   "id": "dff1e016",
   "metadata": {},
   "outputs": [],
   "source": [
    "# --- MODEL ---\n",
    "model, geom_model = buildSceneRobotHand()\n",
    "data = model.createData()\n",
    "geom_data = geom_model.createData()\n",
    "\n",
    "for req in geom_data.collisionRequests:\n",
    "    req.security_margin = 1e-2\n",
    "    req.num_max_contacts = 10\n",
    "    req.enable_contact = True\n",
    "\n",
    "\n",
    "# --- SIMULATION PARAMETERS ---\n",
    "DT = 1e-4\n",
    "DT_VISU = 1/50.\n",
    "DURATION = 2\n",
    "MU = 0.8\n",
    "MAX_STAGGERED_ITERS = 20\n",
    "STAGGERED_TOL = 1e-6\n",
    "ENABLE_CONTACT = True\n",
    "ENABLE_FRICTION = True\n",
    "\n",
    "RECORD_VIDEO = False\n",
    "FILE_NAME = \"house_of_cards.mp4\"\n",
    "\n",
    "# Configure the simulation\n",
    "config = SimulationConfig(model, dt=DT, dt_visu=DT_VISU, duration=DURATION, \n",
    "                            mu=MU, max_staggered_iters=MAX_STAGGERED_ITERS, staggered_tol=STAGGERED_TOL,\n",
    "                            enable_contact=ENABLE_CONTACT, enable_friction=ENABLE_FRICTION,\n",
    "                            record_video=RECORD_VIDEO, video_filename=FILE_NAME) \n",
    "                            \n",
    "simulation = Simulation(config, model, data, geom_model, geom_data)"
   ]
  },
  {
   "cell_type": "code",
   "execution_count": null,
   "id": "80fe8d9e",
   "metadata": {},
   "outputs": [],
   "source": [
    "simulation.viz.viewer.jupyter_cell()"
   ]
  },
  {
   "cell_type": "code",
   "execution_count": null,
   "id": "7c9feac5",
   "metadata": {},
   "outputs": [],
   "source": [
    "simulation.run()"
   ]
  },
  {
   "cell_type": "markdown",
   "id": "54d0cd4f",
   "metadata": {},
   "source": [
    "## Robotic hand and cubes"
   ]
  },
  {
   "cell_type": "code",
   "execution_count": null,
   "id": "222cc6f1",
   "metadata": {},
   "outputs": [],
   "source": [
    "# --- MODEL ---\n",
    "model, geom_model = buildSceneRobotHand() # TODO: Chnage to the correct scene\n",
    "data = model.createData()\n",
    "geom_data = geom_model.createData()\n",
    "\n",
    "for req in geom_data.collisionRequests:\n",
    "    req.security_margin = 1e-2\n",
    "    req.num_max_contacts = 10\n",
    "    req.enable_contact = True\n",
    "\n",
    "\n",
    "# --- SIMULATION PARAMETERS ---\n",
    "DT = 1e-4\n",
    "DT_VISU = 1/50.\n",
    "DURATION = 2\n",
    "MU = 0.8\n",
    "MAX_STAGGERED_ITERS = 20\n",
    "STAGGERED_TOL = 1e-6\n",
    "ENABLE_CONTACT = True\n",
    "ENABLE_FRICTION = True\n",
    "\n",
    "RECORD_VIDEO = False\n",
    "FILE_NAME = \"house_of_cards.mp4\"\n",
    "\n",
    "# Configure the simulation\n",
    "config = SimulationConfig(model, dt=DT, dt_visu=DT_VISU, duration=DURATION, \n",
    "                            mu=MU, max_staggered_iters=MAX_STAGGERED_ITERS, staggered_tol=STAGGERED_TOL,\n",
    "                            enable_contact=ENABLE_CONTACT, enable_friction=ENABLE_FRICTION,\n",
    "                            record_video=RECORD_VIDEO, video_filename=FILE_NAME) \n",
    "                            \n",
    "simulation = Simulation(config, model, data, geom_model, geom_data)"
   ]
  },
  {
   "cell_type": "code",
   "execution_count": null,
   "id": "93ac9a2b",
   "metadata": {},
   "outputs": [],
   "source": [
    "simulation.viz.viewer.jupyter_cell()"
   ]
  },
  {
   "cell_type": "code",
   "execution_count": null,
   "id": "6f77e4cc",
   "metadata": {},
   "outputs": [],
   "source": [
    "simulation.run()"
   ]
  },
  {
   "cell_type": "markdown",
   "id": "b62d6426",
   "metadata": {},
   "source": [
    "## Quadruped"
   ]
  },
  {
   "cell_type": "code",
   "execution_count": null,
   "id": "5b752d0b",
   "metadata": {},
   "outputs": [],
   "source": [
    "# --- MODEL ---\n",
    "model, geom_model = buildSceneRobotHand() # TODO: Chnage to the correct scene\n",
    "data = model.createData()\n",
    "geom_data = geom_model.createData()\n",
    "\n",
    "for req in geom_data.collisionRequests:\n",
    "    req.security_margin = 1e-2\n",
    "    req.num_max_contacts = 10\n",
    "    req.enable_contact = True\n",
    "\n",
    "\n",
    "# --- SIMULATION PARAMETERS ---\n",
    "DT = 1e-4\n",
    "DT_VISU = 1/50.\n",
    "DURATION = 2\n",
    "MU = 0.8\n",
    "MAX_STAGGERED_ITERS = 20\n",
    "STAGGERED_TOL = 1e-6\n",
    "ENABLE_CONTACT = True\n",
    "ENABLE_FRICTION = True\n",
    "\n",
    "RECORD_VIDEO = False\n",
    "FILE_NAME = \"house_of_cards.mp4\"\n",
    "\n",
    "# Configure the simulation\n",
    "config = SimulationConfig(model, dt=DT, dt_visu=DT_VISU, duration=DURATION, \n",
    "                            mu=MU, max_staggered_iters=MAX_STAGGERED_ITERS, staggered_tol=STAGGERED_TOL,\n",
    "                            enable_contact=ENABLE_CONTACT, enable_friction=ENABLE_FRICTION,\n",
    "                            record_video=RECORD_VIDEO, video_filename=FILE_NAME) \n",
    "                            \n",
    "simulation = Simulation(config, model, data, geom_model, geom_data)"
   ]
  },
  {
   "cell_type": "code",
   "execution_count": null,
   "id": "e8b74910",
   "metadata": {},
   "outputs": [],
   "source": [
    "simulation.viz.viewer.jupyter_cell()"
   ]
  },
  {
   "cell_type": "code",
   "execution_count": null,
   "id": "e997fe61",
   "metadata": {},
   "outputs": [],
   "source": [
    "simulation.run()"
   ]
  },
  {
   "cell_type": "markdown",
   "id": "2b16c0a1",
   "metadata": {},
   "source": [
    "## Humanoid"
   ]
  },
  {
   "cell_type": "code",
   "execution_count": null,
   "id": "7d00ac61",
   "metadata": {},
   "outputs": [],
   "source": [
    "# --- MODEL ---\n",
    "model, geom_model = buildSceneRobotHand() # TODO: Chnage to the correct scene\n",
    "data = model.createData()\n",
    "geom_data = geom_model.createData()\n",
    "\n",
    "for req in geom_data.collisionRequests:\n",
    "    req.security_margin = 1e-2\n",
    "    req.num_max_contacts = 10\n",
    "    req.enable_contact = True\n",
    "\n",
    "\n",
    "# --- SIMULATION PARAMETERS ---\n",
    "DT = 1e-4\n",
    "DT_VISU = 1/50.\n",
    "DURATION = 2\n",
    "MU = 0.8\n",
    "MAX_STAGGERED_ITERS = 20\n",
    "STAGGERED_TOL = 1e-6\n",
    "ENABLE_CONTACT = True\n",
    "ENABLE_FRICTION = True\n",
    "\n",
    "RECORD_VIDEO = False\n",
    "FILE_NAME = \"house_of_cards.mp4\"\n",
    "\n",
    "# Configure the simulation\n",
    "config = SimulationConfig(model, dt=DT, dt_visu=DT_VISU, duration=DURATION, \n",
    "                            mu=MU, max_staggered_iters=MAX_STAGGERED_ITERS, staggered_tol=STAGGERED_TOL,\n",
    "                            enable_contact=ENABLE_CONTACT, enable_friction=ENABLE_FRICTION,\n",
    "                            record_video=RECORD_VIDEO, video_filename=FILE_NAME) \n",
    "                            \n",
    "simulation = Simulation(config, model, data, geom_model, geom_data)"
   ]
  },
  {
   "cell_type": "code",
   "execution_count": null,
   "id": "1009e2bd",
   "metadata": {},
   "outputs": [],
   "source": [
    "simulation.viz.viewer.jupyter_cell()"
   ]
  },
  {
   "cell_type": "code",
   "execution_count": null,
   "id": "f8511532",
   "metadata": {},
   "outputs": [],
   "source": [
    "simulation.run()"
   ]
  }
 ],
 "metadata": {
  "kernelspec": {
   "display_name": "RobotskiSistemi",
   "language": "python",
   "name": "python3"
  },
  "language_info": {
   "codemirror_mode": {
    "name": "ipython",
    "version": 3
   },
   "file_extension": ".py",
   "mimetype": "text/x-python",
   "name": "python",
   "nbconvert_exporter": "python",
   "pygments_lexer": "ipython3",
   "version": "3.12.3"
  }
 },
 "nbformat": 4,
 "nbformat_minor": 5
}
