{
 "cells": [
  {
   "cell_type": "code",
   "execution_count": null,
   "id": "933c88d4-8df6-4d32-af61-1b269d9398ef",
   "metadata": {},
   "outputs": [],
   "source": [
    "from schaeffler2025.meshcat_viewer_wrapper import MeshcatVisualizer\n",
    "from tp5.scenes import buildSceneQuadrupedOnHills, buildSceneHandAndStackedCubes, buildSceneTalosFallingCube, buildScenePyramidAndBall\n",
    "model, geom_model = buildScenePyramidAndBall()\n",
    "\n",
    "# Initialize the visualizer.\n",
    "viz = MeshcatVisualizer(\n",
    "    model=model, collision_model=geom_model, visual_model=geom_model\n",
    ")\n",
    "\n",
    "# Display the scene in its initial configuration.\n",
    "q0 = model.referenceConfigurations[\"default\"]\n",
    "viz.display(q0)\n"
   ]
  }
 ],
 "metadata": {
  "kernelspec": {
   "display_name": "Python 3 (ipykernel)",
   "language": "python",
   "name": "python3"
  },
  "language_info": {
   "codemirror_mode": {
    "name": "ipython",
    "version": 3
   },
   "file_extension": ".py",
   "mimetype": "text/x-python",
   "name": "python",
   "nbconvert_exporter": "python",
   "pygments_lexer": "ipython3",
   "version": "3.12.3"
  }
 },
 "nbformat": 4,
 "nbformat_minor": 5
}
