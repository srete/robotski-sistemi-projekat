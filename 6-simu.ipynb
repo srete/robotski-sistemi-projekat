{
 "cells": [
  {
   "cell_type": "markdown",
   "id": "4b08843e-22d6-470b-8a00-5816543f5745",
   "metadata": {},
   "source": [
    "# Robot dynamics and simulation\n",
    "This notebook focuses on the simulation of polyarticulated systems. Based on the collision detection methods available in Pinocchio Coal, we propose to build a complete simulation engine for rigid unilateral contacts, considering only frictionless contact (normal forces and constraints) for simplicity. "
   ]
  },
  {
   "cell_type": "code",
   "execution_count": 1,
   "id": "73d0f647-c9b2-46fd-8d3c-30ab56730076",
   "metadata": {},
   "outputs": [
    {
     "name": "stdout",
     "output_type": "stream",
     "text": [
      "NB: as for all the tutorials, a magic command %do_not_load is introduced to hide\n",
      "    the solutions to some questions. Change it for %load if you want to see (and\n",
      "    execute) the solution.\n"
     ]
    }
   ],
   "source": [
    "import gepetuto.magic"
   ]
  },
  {
   "cell_type": "markdown",
   "id": "4b518ada-8e3a-4ca3-a723-573b3a08dab7",
   "metadata": {
    "jp-MarkdownHeadingCollapsed": true
   },
   "source": [
    "## Set up"
   ]
  },
  {
   "cell_type": "markdown",
   "id": "17cd2485-7c55-4b12-bde3-54c9618de471",
   "metadata": {},
   "source": [
    "As in the previous exercice, you can count on several scenes of various complexity to test your algorithms:\n",
    "- a simple scene with 3 convex objects (buildSceneThreeBodies)\n",
    "- a variation of this first scene with more objects and walls (buildScenePillsBox)\n",
    "- a stack of cubes of various size (buildSceneCubes)\n",
    "- a robot hand"
   ]
  },
  {
   "cell_type": "code",
   "execution_count": 2,
   "id": "f0ad858f-7312-43c8-9a3e-082b7b5ce34b",
   "metadata": {},
   "outputs": [],
   "source": [
    "from tp5.scenes import buildSceneThreeBodies, buildScenePillsBox, buildSceneCubes, buildSceneRobotHand"
   ]
  },
  {
   "cell_type": "markdown",
   "id": "3530cb9f-3683-4e3f-8797-2974abf7a7ce",
   "metadata": {},
   "source": [
    "The other imports are classical, we will use the robot hand to have a controllable model."
   ]
  },
  {
   "cell_type": "code",
   "execution_count": 3,
   "id": "6aa4d346-f6bd-4abf-b726-9244f34a0b8b",
   "metadata": {},
   "outputs": [
    {
     "name": "stdout",
     "output_type": "stream",
     "text": [
      "You can open the visualizer by visiting the following URL:\n",
      "http://127.0.0.1:7002/static/\n"
     ]
    }
   ],
   "source": [
    "import hppfcl\n",
    "import pinocchio as pin\n",
    "import numpy as np\n",
    "import time\n",
    "from schaeffler2025.meshcat_viewer_wrapper import MeshcatVisualizer\n",
    "import matplotlib.pylab as plt\n",
    "\n",
    "# Build a scene\n",
    "model,geom_model = buildSceneRobotHand()\n",
    "q0 = model.referenceConfigurations['default']\n",
    "data = model.createData()\n",
    "geom_data = geom_model.createData()\n",
    "\n",
    "# Start meshcat\n",
    "viz = MeshcatVisualizer(model=model, collision_model=geom_model,\n",
    "                        visual_model=geom_model)\n"
   ]
  },
  {
   "cell_type": "code",
   "execution_count": 4,
   "id": "8c46cca4-e0e1-4237-8491-ef294aa49b8a",
   "metadata": {},
   "outputs": [],
   "source": [
    "q=pin.randomConfiguration(model)\n",
    "viz.display(q)"
   ]
  },
  {
   "cell_type": "code",
   "execution_count": 5,
   "id": "eb423930-ee1a-4e6a-9c7f-558778e7a8ed",
   "metadata": {},
   "outputs": [
    {
     "data": {
      "text/html": [
       "\n",
       "            <div style=\"height: 400px; width: 100%; overflow-x: auto; overflow-y: hidden; resize: both\">\n",
       "            <iframe src=\"http://127.0.0.1:7002/static/\" style=\"width: 100%; height: 100%; border: none\"></iframe>\n",
       "            </div>\n",
       "            "
      ],
      "text/plain": [
       "<IPython.core.display.HTML object>"
      ]
     },
     "execution_count": 5,
     "metadata": {},
     "output_type": "execute_result"
    }
   ],
   "source": [
    "viz.viewer.jupyter_cell()"
   ]
  },
  {
   "cell_type": "markdown",
   "id": "cb91c3a0-29fe-4698-bf96-4a6866b3c2af",
   "metadata": {
    "jp-MarkdownHeadingCollapsed": true
   },
   "source": [
    "## Contact-less dynamic simulation"
   ]
  },
  {
   "cell_type": "markdown",
   "id": "f42d6b2f-287e-4597-8317-a88ca332d0b6",
   "metadata": {},
   "source": [
    "We now have all the contact information, let's look at the system dynamics. \n",
    "We will write first a contact-less simulator, just integrating free fall.\n",
    "Better use an actuated model for that."
   ]
  },
  {
   "cell_type": "markdown",
   "id": "d0eeeac2-e7d8-4f8a-a859-e052c48cbbdf",
   "metadata": {},
   "source": [
    "### Evaluating the core elements of the dynamics"
   ]
  },
  {
   "cell_type": "markdown",
   "id": "9e699d99-7762-4d7a-991f-5c216cd2bf6f",
   "metadata": {},
   "source": [
    "In a first time, let's play with the dynamics without constraints.\n",
    "Choosing an arbitrary joint torque $\\tau_q$, inocchio can compute the robot acceleration and integrate it.\n",
    "The dynamic equation of the robot is $M a_q + b = \\tau_q$, with $M$ the mass, $a_q$ the joint acceleration and $b$ the drift.\n",
    "The mass matrix can be computed using *CRB* algorithm (function of q). The drift is computed using *NLE* (nonlinear effects) algorithm (function of $q$, $v_q$). \n"
   ]
  },
  {
   "cell_type": "code",
   "execution_count": 6,
   "id": "9ea3d313-e91c-4245-bc8a-4cf65250a7a8",
   "metadata": {
    "scrolled": true
   },
   "outputs": [],
   "source": [
    "# %load tp4/generated/example_control_init\n",
    "q = q0.copy()\n",
    "vq = np.zeros(model.nv)\n"
   ]
  },
  {
   "cell_type": "code",
   "execution_count": 7,
   "id": "eabd9644-416f-405e-ae67-2649f321a5e1",
   "metadata": {},
   "outputs": [],
   "source": [
    "# %load tp4/generated/example_control_mass\n",
    "M = pin.crba(model, data, q)\n",
    "b = pin.nle(model, data, q, vq)"
   ]
  },
  {
   "cell_type": "markdown",
   "id": "605402bf-8821-48fd-934b-6402f58c9ca5",
   "metadata": {},
   "source": [
    "These terms correspond to the inverse dynamics. They can be numerically inverted to compute the direct dynamics."
   ]
  },
  {
   "cell_type": "markdown",
   "id": "9ed96e4c-4fa5-4e89-a8a8-c4a1ff0d60ed",
   "metadata": {},
   "source": [
    "For example, the acceleration resulting from a torque $\\tau_q$ would be $M^{-1} (\\tau_q-b)$, or equivalently computed with the ABA algorithm of Pinocchio."
   ]
  },
  {
   "cell_type": "code",
   "execution_count": 8,
   "id": "c3df4112-e5d9-41e1-a6b0-e5962e27cf91",
   "metadata": {},
   "outputs": [],
   "source": [
    "# %load tp5/generated/example_control_dyninv\n",
    "tauq = np.random.rand(model.nv) * 2 - 1\n",
    "aq = np.linalg.inv(M) @ (tauq - b)\n"
   ]
  },
  {
   "cell_type": "code",
   "execution_count": 9,
   "id": "50cd6b19-d86c-42a8-b390-c75a6ab71790",
   "metadata": {},
   "outputs": [
    {
     "data": {
      "text/plain": [
       "array([0., 0., 0., 0., 0., 0., 0., 0., 0., 0., 0., 0., 0., 0.])"
      ]
     },
     "execution_count": 9,
     "metadata": {},
     "output_type": "execute_result"
    }
   ],
   "source": [
    "pin.computeGeneralizedGravity(model,data,q)-b"
   ]
  },
  {
   "cell_type": "code",
   "execution_count": 10,
   "id": "6f623f97-9792-48ae-bd7b-a95b2d6d47de",
   "metadata": {},
   "outputs": [
    {
     "data": {
      "text/plain": [
       "array([ 5.55111512e-17,  0.00000000e+00, -8.88178420e-16, -2.77555756e-16,\n",
       "       -1.33226763e-15, -1.33226763e-15,  1.11022302e-15,  0.00000000e+00,\n",
       "        4.44089210e-16, -6.66133815e-16,  0.00000000e+00, -4.44089210e-16,\n",
       "        0.00000000e+00,  1.77635684e-15])"
      ]
     },
     "execution_count": 10,
     "metadata": {},
     "output_type": "execute_result"
    }
   ],
   "source": [
    "pin.aba(model,data,q,vq,tauq)-aq"
   ]
  },
  {
   "cell_type": "code",
   "execution_count": 11,
   "id": "056eb363-38af-40df-ab03-ae981fd75f56",
   "metadata": {},
   "outputs": [
    {
     "data": {
      "text/plain": [
       "array([15.22467586,  5.78194615,  0.59217354,  0.34027   ,  0.09      ,\n",
       "        0.59217354,  0.34027   ,  0.09      ,  0.59217354,  0.34027   ,\n",
       "        0.09      ,  0.4105416 ,  0.1601584 ,  0.16      ])"
      ]
     },
     "execution_count": 11,
     "metadata": {},
     "output_type": "execute_result"
    }
   ],
   "source": [
    "np.diag(M)"
   ]
  },
  {
   "cell_type": "markdown",
   "id": "ad26d663-0265-465f-a066-07b4de29b3f9",
   "metadata": {},
   "source": [
    "### Integrating the acceleration"
   ]
  },
  {
   "cell_type": "markdown",
   "id": "6d09e3bf-5b3f-4270-b5a6-a1c9a94862bd",
   "metadata": {},
   "source": [
    "Once aq as been computed, it is straight forward to integrate it to velocity using $v_q += a_q \\Delta t$. \n",
    "Integration to joint position is more complex in general, as we saw for the mobile robot. Here, $n_q = n_v$ and everything is Euclinea, so a simple += integration would work, but since it is implemented in pinocchio, let's keep the good habits:"
   ]
  },
  {
   "cell_type": "code",
   "execution_count": 12,
   "id": "407ba7b9-68ad-497b-9424-0d93600f02fa",
   "metadata": {},
   "outputs": [],
   "source": [
    "# %load tp4/generated/example_control_hyper\n",
    "# Hyperparameters for the simu\n",
    "DT = 1e-3  # simulation timestep\n",
    "DT_VISU = 1/50\n",
    "DURATION = 3. # duration of simulation\n",
    "T = int(DURATION/DT) # number of time steps\n"
   ]
  },
  {
   "cell_type": "code",
   "execution_count": 13,
   "id": "4759743f-b58b-497e-b744-2310d9961aae",
   "metadata": {},
   "outputs": [],
   "source": [
    "# %load tp4/generated/example_control_integrate\n",
    "vq += aq * DT\n",
    "q = pin.integrate(model, q, vq * DT)\n"
   ]
  },
  {
   "cell_type": "markdown",
   "id": "a6fbd473-521d-49d7-9aaf-17dd505fd369",
   "metadata": {},
   "source": [
    "Now, you should be able to implement a first simulation (not a rendering any more) of the robot behavior when no torque is applied (tauq = 0).\n",
    "\n"
   ]
  },
  {
   "cell_type": "code",
   "execution_count": 14,
   "id": "e8fb0d18-32ba-4db5-aa54-433441c2ded2",
   "metadata": {},
   "outputs": [],
   "source": [
    "tauq = np.zeros(model.nv)"
   ]
  },
  {
   "cell_type": "markdown",
   "id": "097a6bc5-bae7-47e7-99ac-938ff453c166",
   "metadata": {},
   "source": [
    "Fill the template below to get a free-falling dynamics."
   ]
  },
  {
   "cell_type": "code",
   "execution_count": 15,
   "id": "af3945eb-cb66-49b9-b9d7-3013b9a91eed",
   "metadata": {},
   "outputs": [],
   "source": [
    "for i in range(T):\n",
    "    t = i * DT\n",
    "\n",
    "    # Compute the model.\n",
    "    # TODO FIX ME\n",
    "\n",
    "    # Simulated the resulting acceleration (forward dynamics\n",
    "    # TODO FIX ME\n",
    "    \n",
    "    # Integrate the acceleration.\n",
    "    # TODO FIX ME\n",
    "    \n",
    "    # Display once in a while...\n",
    "    if DT_VISU is not None and abs((t) % DT_VISU)<=0.9*DT:\n",
    "        viz.display(q)\n",
    "        time.sleep(DT_VISU)"
   ]
  },
  {
   "cell_type": "markdown",
   "id": "2450db49-f72d-4b00-8ea4-944597427b20",
   "metadata": {},
   "source": [
    "Now modify the simulator to encompass joint friction, i.e. the torque is opposite to the velocity with a friction coefficient $K_f$ (take $K_f=0.1$ as a start)."
   ]
  },
  {
   "cell_type": "markdown",
   "id": "4d5f98d5-17c1-4759-8b3c-b071b6a12726",
   "metadata": {},
   "source": [
    "### Proportional-derivative and computed torque"
   ]
  },
  {
   "cell_type": "markdown",
   "id": "e73df67e-9a36-44b0-a630-871923d88262",
   "metadata": {},
   "source": [
    "Now choose a reference joint position (possibly time varying, like in the hand example).\n",
    "The joint torques can then be computed to track the desired position, with $\\tau_q = -K_p (q-q^{des}) - K_v v_q$. Both gains $K_p$ and $K_v$ should be properly chosen. Optimal tracking is obtained with $K_v = 2 \\sqrt{K_p}$. \n",
    "In general, a desired velocity is also tracked to avoid tracking errors.\n",
    "\n"
   ]
  },
  {
   "cell_type": "markdown",
   "id": "600b351e-3907-4b2c-9166-379cf916e4f0",
   "metadata": {},
   "source": [
    "First choose the PD gains:"
   ]
  },
  {
   "cell_type": "code",
   "execution_count": 17,
   "id": "60a40cc6-4fb9-4ad9-b90f-d24ee51a23b4",
   "metadata": {},
   "outputs": [],
   "source": [
    "# %load tp5/generated/example_control_hyper_control\n",
    "# Hyperparameters for the control\n",
    "Kp = 50.0  # proportional gain (P of PD)\n",
    "Kv = 2 * np.sqrt(Kp)  # derivative gain (D of PD)\n"
   ]
  },
  {
   "cell_type": "markdown",
   "id": "db361dde-d485-452f-bc09-8c8f56b98482",
   "metadata": {},
   "source": [
    "Then choose a reference trajectory (using the simple class traj_ref introduced for that) which oscillates around a given configuration."
   ]
  },
  {
   "cell_type": "code",
   "execution_count": 18,
   "id": "97a72e68-c72d-4d7c-a418-cd9857830fdb",
   "metadata": {},
   "outputs": [],
   "source": [
    "# %load tp5/generated/example_control_trajref\n",
    "from tp5.traj_ref import TrajRef  # noqa E402\n",
    "\n",
    "qdes = TrajRef(\n",
    "    q0,\n",
    "    omega=np.array([0, 0.1, 1, 1.5, 2.5, -1, -1.5, -2.5, 0.1, 0.2, 0.3, 0.4, 0.5, 0.6]),\n",
    "    amplitude=1.5,\n",
    ")\n"
   ]
  },
  {
   "cell_type": "markdown",
   "id": "44de3e5c-cee5-4961-9b5f-962f3fbc9c04",
   "metadata": {},
   "source": [
    "Finally, implement the control loop using the following template."
   ]
  },
  {
   "cell_type": "code",
   "execution_count": 25,
   "id": "151088bb-225f-48c8-b912-b7d4310f7ae0",
   "metadata": {},
   "outputs": [],
   "source": [
    "hq = []  ### For storing the logs of measured trajectory q\n",
    "hqdes = []  ### For storing the logs of desired trajectory qdes\n",
    "for i in range(T):\n",
    "    t = i * DT\n",
    "\n",
    "    # Compute the model.\n",
    "    M = pin.crba(model, data, q)\n",
    "    b = pin.nle(model, data, q, vq)\n",
    "\n",
    "    # Compute the PD control.\n",
    "    tauq = -Kp * (q - qdes(t)) - Kv * (vq - qdes.velocity(t)) + qdes.acceleration(t)\n",
    "\n",
    "    # Simulated the resulting acceleration (forward dynamics\n",
    "    aq = np.linalg.inv(M) @ (tauq - b)\n",
    "\n",
    "    # Integrate the acceleration.\n",
    "    vq += aq * DT\n",
    "    q = pin.integrate(model, q, vq * DT)\n",
    "\n",
    "    # Display once in a while...\n",
    "    if DT_VISU is not None and abs((t) % DT_VISU) <= 0.9 * DT:\n",
    "        viz.display(q)\n",
    "        time.sleep(DT_VISU)\n",
    "\n",
    "    # Log the history.\n",
    "    hq.append(q.copy())\n",
    "    hqdes.append(qdes.copy())\n",
    "\n",
    "    # Display once in a while...\n",
    "    if DT_VISU is not None and abs((t) % DT_VISU)<=0.9*DT:\n",
    "        viz.display(q)\n",
    "        time.sleep(DT_VISU)\n"
   ]
  },
  {
   "cell_type": "code",
   "execution_count": 26,
   "id": "76526904",
   "metadata": {},
   "outputs": [
    {
     "data": {
      "text/html": [
       "\n",
       "            <div style=\"height: 400px; width: 100%; overflow-x: auto; overflow-y: hidden; resize: both\">\n",
       "            <iframe src=\"http://127.0.0.1:7002/static/\" style=\"width: 100%; height: 100%; border: none\"></iframe>\n",
       "            </div>\n",
       "            "
      ],
      "text/plain": [
       "<IPython.core.display.HTML object>"
      ]
     },
     "execution_count": 26,
     "metadata": {},
     "output_type": "execute_result"
    }
   ],
   "source": [
    "viz.viewer.jupyter_cell()"
   ]
  },
  {
   "cell_type": "markdown",
   "id": "bbb42d3e-a9d0-4477-8c69-49c6f1b844a8",
   "metadata": {},
   "source": [
    "Here, there is a strong coupling between joints, due to the mass matrix that is not compensated in the simple PD law. In theory, the computed torques is to compute the joint torque by inverse dynamics from a reference joint acceleration. This boils down to canceling the simulation equation by choosing the proper terms in the control law. It is now very interesting to implement in case of perfect dynamics knowledge. It might be more interesting to study in case the simulation is done with the perfect M, while the control is computed with approximate M (for example, using only the diagonal terms of the mass matrix). Let's rather simulate contact.\n"
   ]
  },
  {
   "cell_type": "markdown",
   "id": "c7464b1c-33e2-49a0-9039-bdbfc4a23113",
   "metadata": {},
   "source": [
    "It is intersting to plot the results. In the solution of the previous example, the effective and desired position q and qdes have been stored in a log list. We can display them with matplotlib."
   ]
  },
  {
   "cell_type": "code",
   "execution_count": 20,
   "id": "290064d4-6974-483e-ac79-bb17a6134be8",
   "metadata": {},
   "outputs": [
    {
     "data": {
      "text/plain": [
       "Text(0.5, 0, 'Iterations')"
      ]
     },
     "execution_count": 20,
     "metadata": {},
     "output_type": "execute_result"
    },
    {
     "data": {
      "image/png": "[encoded data removed]",
      "text/plain": [
       "<Figure size 640x480 with 2 Axes>"
      ]
     },
     "metadata": {},
     "output_type": "display_data"
    }
   ],
   "source": [
    "plt.subplot(211)\n",
    "plt.plot([q[2] for q in hq])\n",
    "plt.plot([q[2] for q in hqdes])\n",
    "plt.ylabel('Joint #2')\n",
    "plt.subplot(212)\n",
    "plt.plot([q[3] for q in hq])\n",
    "plt.plot([q[3] for q in hqdes]);\n",
    "plt.ylabel('Joint #1')\n",
    "plt.xlabel('Iterations')"
   ]
  },
  {
   "cell_type": "markdown",
   "id": "33699636-584f-4128-8c31-b24f35200f1b",
   "metadata": {},
   "source": [
    "Such a basic controller is often called a PD controller, sometimes implementing also a feedforward term. Such a controller gives an active impendance to the robot, making it behave like a damped spring."
   ]
  },
  {
   "cell_type": "markdown",
   "id": "a0f90e0e-d352-4cb1-bcdd-2b43604d314b",
   "metadata": {
    "jp-MarkdownHeadingCollapsed": true
   },
   "source": [
    "## Friction-less simulation"
   ]
  },
  {
   "cell_type": "markdown",
   "id": "a435ff98-8358-40b1-a2bc-1d8a35c96827",
   "metadata": {},
   "source": [
    "We will now combine the two aspects of the model: the collisions between geometries, and the dynamics of inertias. "
   ]
  },
  {
   "cell_type": "markdown",
   "id": "8dc1c831-7ad4-4582-b008-6e854d7bc197",
   "metadata": {},
   "source": [
    "### Choose a model \n",
    "Let's come back to a simple model first: a cube on a floor."
   ]
  },
  {
   "cell_type": "code",
   "execution_count": 27,
   "id": "05aec0af-3bea-4ea1-9fd6-5a47be6a39c6",
   "metadata": {},
   "outputs": [],
   "source": [
    "from tp5.display_collision_patches import preallocateVisualObjects,updateVisualObjects"
   ]
  },
  {
   "cell_type": "code",
   "execution_count": 28,
   "id": "c1b0f01c-06fe-4b3c-a186-4a932adeed33",
   "metadata": {},
   "outputs": [
    {
     "name": "stdout",
     "output_type": "stream",
     "text": [
      "<coal.coal_pywrap.Box object at 0x7d5c41abea70>\n",
      "<coal.coal_pywrap.Box object at 0x7d5c41700090>\n",
      "<coal.coal_pywrap.Box object at 0x7d5c41700040>\n",
      "You can open the visualizer by visiting the following URL:\n",
      "http://127.0.0.1:7003/static/\n"
     ]
    }
   ],
   "source": [
    "# %load tp5/generated/example_simu_frictionless_init\n",
    "# ### SCENE\n",
    "# Create scene with multiple objects\n",
    "model,geom_model = buildSceneCubes(3)\n",
    "\n",
    "# Create the corresponding data to the models\n",
    "data = model.createData()\n",
    "geom_data = geom_model.createData()\n",
    "\n",
    "for req in geom_data.collisionRequests:\n",
    "    req.security_margin = 1e-3\n",
    "    req.num_max_contacts = 20\n",
    "    req.enable_contact = True\n",
    "\n",
    "# ### VIZUALIZATION\n",
    "visual_model = geom_model.copy()\n",
    "preallocateVisualObjects(visual_model,10)\n",
    "viz = MeshcatVisualizer(model=model, collision_model=geom_model,\n",
    "                        visual_model=visual_model)\n",
    "updateVisualObjects(model,data,[],[],visual_model,viz)\n",
    "\n",
    "# ### INIT MODEL STATE\n",
    "q0 = model.referenceConfigurations['default']\n",
    "\n",
    "viz.display(q0)\n"
   ]
  },
  {
   "cell_type": "code",
   "execution_count": 29,
   "id": "046c337c-265d-4622-bfc8-be51c60b1325",
   "metadata": {},
   "outputs": [
    {
     "data": {
      "text/html": [
       "\n",
       "            <div style=\"height: 400px; width: 100%; overflow-x: auto; overflow-y: hidden; resize: both\">\n",
       "            <iframe src=\"http://127.0.0.1:7003/static/\" style=\"width: 100%; height: 100%; border: none\"></iframe>\n",
       "            </div>\n",
       "            "
      ],
      "text/plain": [
       "<IPython.core.display.HTML object>"
      ]
     },
     "execution_count": 29,
     "metadata": {},
     "output_type": "execute_result"
    }
   ],
   "source": [
    "viz.viewer.jupyter_cell()"
   ]
  },
  {
   "cell_type": "markdown",
   "id": "458beb7c-4b70-4671-a2ee-f0f792355c6f",
   "metadata": {},
   "source": [
    "### Contact Jacobian"
   ]
  },
  {
   "cell_type": "markdown",
   "id": "b7f03751-1954-4547-ae60-6e2c2ba656a7",
   "metadata": {},
   "source": [
    "The pin.RigidConstraintModel makes it possible to directly compute the corresponding jacobian. When considering 3D contact models, the jacobian maps the configuration velocity to the relative velocity of the two contact points in the local frame attached to the first witness.\n",
    "Let's build a basic contact model to show the API:"
   ]
  },
  {
   "cell_type": "code",
   "execution_count": 30,
   "id": "824ab2bc-2978-4b64-a0d5-8ea0c26dc9bc",
   "metadata": {},
   "outputs": [],
   "source": [
    "contact_model = pin.RigidConstraintModel(pin.ContactType.CONTACT_3D,model,1,pin.SE3.Random(), 0, pin.SE3.Identity(), pin.LOCAL)\n",
    "contact_data = contact_model.createData()"
   ]
  },
  {
   "cell_type": "code",
   "execution_count": 31,
   "id": "10bc3f89-9833-42db-a228-bf71b0a910bd",
   "metadata": {},
   "outputs": [
    {
     "data": {
      "text/plain": [
       "array([[-0.615, -0.056,  0.786, -0.005, -0.197, -0.018,  0.   ,  0.   ,  0.   ,  0.   ,  0.   ,  0.   ,  0.   ,  0.   ,  0.   ,  0.   ,  0.   ,  0.   ],\n",
       "       [ 0.64 , -0.618,  0.457, -0.488, -0.941, -0.588,  0.   ,  0.   ,  0.   ,  0.   ,  0.   ,  0.   ,  0.   ,  0.   ,  0.   ,  0.   ,  0.   ,  0.   ],\n",
       "       [ 0.46 ,  0.784,  0.416,  0.671, -0.755,  0.681,  0.   ,  0.   ,  0.   ,  0.   ,  0.   ,  0.   ,  0.   ,  0.   ,  0.   ,  0.   ,  0.   ,  0.   ]])"
      ]
     },
     "execution_count": 31,
     "metadata": {},
     "output_type": "execute_result"
    }
   ],
   "source": [
    "pin.computeJointJacobians(model,data,q0)\n",
    "np.set_printoptions(precision=3, linewidth=350, suppress=True,threshold=1e6)\n",
    "pin.getConstraintsJacobian(model,data,[contact_model],[contact_data])"
   ]
  },
  {
   "cell_type": "markdown",
   "id": "09e8e3af-8270-44b7-a4ff-16a9cb99ed3a",
   "metadata": {},
   "source": [
    "The constraint Jacobian express the constraint in term of velocity of body 1 wrt to body 2. It is more intuitive to think to the opposite: so you have to take the negative Jacobian (ie velocity of body 2 wrt body 1, whose normal component should be positive). Here, we said we will only consider the normal component of the contact, so select the last row (and if there is more than one contact point, every next rows over 3)."
   ]
  },
  {
   "cell_type": "code",
   "execution_count": 32,
   "id": "35d637f2-9d97-4a24-a734-98b6d79cd81a",
   "metadata": {},
   "outputs": [],
   "source": [
    "Jc = -pin.getConstraintsJacobian(model,data,[contact_model],[contact_data])[2::3]"
   ]
  },
  {
   "cell_type": "markdown",
   "id": "6e7853f7-fdc4-4f91-ba39-affc6ff8046e",
   "metadata": {},
   "source": [
    "### Simulation without friction: primal formulation"
   ]
  },
  {
   "cell_type": "code",
   "execution_count": 33,
   "id": "31dd7196-19e4-4ecf-b571-660b346a3de6",
   "metadata": {},
   "outputs": [],
   "source": [
    "from tp5.create_rigid_contact_models_for_hppfcl import createContactModelsFromCollisions"
   ]
  },
  {
   "cell_type": "markdown",
   "id": "f15ede1f-0fc4-4201-99af-e3f09704cbf2",
   "metadata": {},
   "source": [
    "You are now in position to write your first complete (friction-less) collision simulator.\n",
    "The state of the system is the configuration $q$ and velocity $v_q$. The joint torques have to be decided (by a controller) as a function of the state. Here we take them constant null as the cube is unactuated."
   ]
  },
  {
   "cell_type": "code",
   "execution_count": 34,
   "id": "0e429215-fa87-4b69-86d1-3fdd2bd54c4c",
   "metadata": {},
   "outputs": [],
   "source": [
    "q = q0.copy()\n",
    "v = np.zeros(model.nv)\n",
    "tau = np.zeros(model.nv)"
   ]
  },
  {
   "cell_type": "markdown",
   "id": "dd8363df-dc9e-4cc2-8102-f2038884cc28",
   "metadata": {},
   "source": [
    "At each new simulation cycle, you need to choose the next velocity. \n",
    "If there is no contact, then the velocity is simply obtained after one step of free fall:"
   ]
  },
  {
   "cell_type": "code",
   "execution_count": 35,
   "id": "0b4cc12d-9c2a-44d4-9d87-d8baacf9a268",
   "metadata": {},
   "outputs": [],
   "source": [
    "vf = v + DT * pin.aba(model, data, q, v, tau)"
   ]
  },
  {
   "cell_type": "markdown",
   "id": "bf73f66d-aa35-4fa0-9fcb-058e2b5e06cc",
   "metadata": {},
   "source": [
    "You will need a solver to compute the simulation step. With only normal constraints, a QP solver is enough. You can use any of the many available, for example ProxQP. You can get a super quick overview of this solver in the [notebook about it](appendix-proxqp.ipynb)."
   ]
  },
  {
   "cell_type": "code",
   "execution_count": 36,
   "id": "524d0766-d58e-4a9b-9918-b640254bec32",
   "metadata": {},
   "outputs": [],
   "source": [
    "import proxsuite\n",
    "QP = proxsuite.proxqp.dense.QP"
   ]
  },
  {
   "cell_type": "markdown",
   "id": "9d3e3fa1-1ed0-46e5-a63c-5a4dd7e81517",
   "metadata": {},
   "source": [
    "If there is some collisions, then the next velocity will be as close as possible to the free fall (\"as close as possible\" in the sense of the metrics imposed by the inertia matrix), while respecting the constraints of positive normal velocities. Mathematically, this writes:"
   ]
  },
  {
   "cell_type": "markdown",
   "id": "b7c7c0bd-a184-42b2-804f-3bc72d1f4f5c",
   "metadata": {},
   "source": [
    "$$\\min_{v_+} f(v_+) = \\frac{1}{2} \\| v_+ - v_f \\|_M^2 $$\n",
    "such that\n",
    "$$J_c v_+ \\ge 0$$"
   ]
  },
  {
   "cell_type": "markdown",
   "id": "280840bb-9885-4894-b552-219c2ac71a3a",
   "metadata": {},
   "source": [
    "where $f(v_+) = \\frac{1}{2} \\| v_+ - v_f \\|_M^2 = = \\frac{1}{2} (v_+-v_f)^T M (v_+-v_f) = \\frac{1}{2} v_+^T M v_+ - (M v_f)^T v_+$"
   ]
  },
  {
   "cell_type": "markdown",
   "id": "b62e9718-2814-4660-ab3f-efd3496354b6",
   "metadata": {},
   "source": [
    "This defines a well-shaped LCPQ that can be solved by any off-the-shelf QP solver, [for example ProxQP, as explained in this companion notebook](appendix-proxqp.ipynb) ."
   ]
  },
  {
   "cell_type": "markdown",
   "id": "fac34682-82fd-4d63-a551-580798385191",
   "metadata": {},
   "source": [
    "Now write the simulation loop. At each simulation cycle:\n",
    "1. Check the collisions, create the contact model and the corresponding contact data.\n",
    "2. Evaluate the free-fall next velocity $v_f$ with ABA\n",
    "3. If no collision, then the next velocity is v_f, continue.\n",
    "4. If collisions, then evaluate the inertia matrix $M$ with pin.crba, and the Jacobian $J_c$ with pin.getConstraintJacobian; form the primal QP, solve it. The result is the next velocity, the Lagrange multipliers are the contact forces.\n",
    "5. Optionally, print, display, log."
   ]
  },
  {
   "cell_type": "markdown",
   "id": "4a066b42-c37c-4335-87df-526bfecaef0e",
   "metadata": {},
   "source": [
    "Here is a canvas:"
   ]
  },
  {
   "cell_type": "code",
   "execution_count": null,
   "id": "a502dba3-3be7-457f-b7bb-881d10c8c2ee",
   "metadata": {},
   "outputs": [],
   "source": [
    "# %load tp5/generated/example_simu_frictionless_loop\n",
    "# ### MAIN LOOP\n",
    "# ### MAIN LOOP\n",
    "# ### MAIN LOOP\n",
    "for t in range(T):\n",
    "\n",
    "    # Compute free dynamics\n",
    "    tau = np.zeros(model.nv)\n",
    "    pin.computeCollisions(model, data, geom_model, geom_data, q)\n",
    "    vf = v + DT * pin.aba(model, data, q, v, tau)\n",
    "\n",
    "    # Create contact models from collision\n",
    "    contact_models = createContactModelsFromCollisions(model,data,geom_model,geom_data)\n",
    "    contact_datas = [ cm.createData() for cm in contact_models ]\n",
    "    \n",
    "    nc = len(contact_models)\n",
    "    if nc==0:\n",
    "        # No collision, just integrate the free dynamics\n",
    "        v = vf\n",
    "    else:\n",
    "        # With at least one collision ...\n",
    "        # Compute mass matrix.\n",
    "        # (pin.crba should be enough in P3X, but CAT to be sure in P2X);\n",
    "        pin.computeAllTerms(model, data, q, v)\n",
    "        # The contact solver express the constraint in term of velocity of\n",
    "        # body 1 wrt to body 2. It is more intuitive to think to the opposite\n",
    "        # so take the negative jacobian (ie velocity of body 2 wrt body 1, whose\n",
    "        # normal component should be positive).\n",
    "        # Select only normal components of contact\n",
    "        # (frictionless slide on the tangent components, uncontrained)\n",
    "        J = -pin.getConstraintsJacobian(model, data, contact_models, contact_datas)[2::3,:]\n",
    "        assert(J.shape == (nc,model.nv))\n",
    "\n",
    "        M = data.M\n",
    "\n",
    "        # ## TODO: formulate the LCQP to compute vnext\n",
    "        v = np.zeros(model.nv)\n",
    "    \n",
    "    # Finally, integrate the valocity\n",
    "    q = pin.integrate(model , q, v*DT)\n",
    "\n",
    "    # Visualize once in a while\n",
    "    if DT_VISU is not None and abs((t*DT) % DT_VISU)<=0.9*DT:\n",
    "        updateVisualObjects(model,data,contact_models,contact_datas,visual_model,viz)\n",
    "        viz.display(q)\n",
    "        time.sleep(DT_VISU)"
   ]
  },
  {
   "cell_type": "markdown",
   "id": "3fa9925e-d695-45e1-a16e-a001ae9a2622",
   "metadata": {},
   "source": [
    "Should you need it, here is the primal formulation:"
   ]
  },
  {
   "cell_type": "code",
   "execution_count": 39,
   "id": "92ccf302-e5a1-4c68-9e24-3f65a9f58e97",
   "metadata": {},
   "outputs": [],
   "source": [
    "%do_not_load_snippet tp5/generated/example_simu_frictionless_primal"
   ]
  },
  {
   "cell_type": "markdown",
   "id": "76c46738-2802-41e3-9b09-194f156e3560",
   "metadata": {},
   "source": [
    "The Dual formulation requires another matrix: the Delassus operator, defined as:\n",
    "$$\\Lambda_c = J_c M^{-1} J_c^T$$\n",
    "Physically, this is the inverse of the apparent (or operational, or contact) inertia, i.e. the mass that an operator would feel if it touches the system in this configuration at the contact points.\n",
    "The pin.RigidConstraintModel makes it possible to evaluate $\\Lambda_c$ more efficiently, but for now that's enough for us."
   ]
  },
  {
   "cell_type": "code",
   "execution_count": 33,
   "id": "558615c2-aa42-4ba4-aafd-c2f57c820c20",
   "metadata": {},
   "outputs": [],
   "source": [
    "Minv = pin.computeMinverse(model,data,q)\n",
    "delasus = J@Minv@J.T"
   ]
  },
  {
   "cell_type": "markdown",
   "id": "dd29fbc4-1b60-45c6-840a-b66d11ea607f",
   "metadata": {},
   "source": [
    "### Simulation without friction: dual formulation"
   ]
  },
  {
   "cell_type": "markdown",
   "id": "1bea4464-146f-4a9f-8fdc-b3a8b56c0b9f",
   "metadata": {},
   "source": [
    "The dual of the contact LCQP that we wrote is:\n",
    "$$\\min_\\lambda g(\\lambda) = \\frac{1}{2} \\lambda^T \\Lambda_c \\lambda + (J_c v_f)^T \\lambda$$\n",
    "subject to\n",
    "$$\\lambda \\ge 0$$\n",
    "\n",
    "Here, the decision variable is $\\lambda$ which can be understood as the contact impulses (i.e. $\\lambda = f.DT$, the effect of the forces during the timestep). The joint velocity is not appearing in this problem, as all quantities are in the operation (contact) space. "
   ]
  },
  {
   "cell_type": "markdown",
   "id": "aab31e05-9df5-41f3-a7d2-4d97825cfbd1",
   "metadata": {},
   "source": [
    "Once the contact forces are found, the configuration velocity can be evaluated by calling the pin.aba algorithm, while specifying the contact forces."
   ]
  },
  {
   "cell_type": "code",
   "execution_count": 34,
   "id": "eb893597-5517-4167-89d1-8f9d854c7644",
   "metadata": {},
   "outputs": [],
   "source": [
    "forces = np.zeros(Jc.shape[0])\n",
    "vnext = v + DT * pin.aba(model, data, q, v, tau + J.T @ forces/DT)"
   ]
  },
  {
   "cell_type": "markdown",
   "id": "f2952ae4-a12d-4381-81ec-d730ab1a0937",
   "metadata": {},
   "source": [
    "Now rewrite the simulation problem with the dual formulation. Here is the canvas:"
   ]
  },
  {
   "cell_type": "code",
   "execution_count": 35,
   "id": "cd596254-63a8-4076-8293-7fd5f93470e3",
   "metadata": {},
   "outputs": [],
   "source": [
    "# %load tp5/generated/example_simu_frictionless_loop\n",
    "# ### MAIN LOOP\n",
    "# ### MAIN LOOP\n",
    "# ### MAIN LOOP\n",
    "for t in range(T):\n",
    "\n",
    "    # Compute free dynamics\n",
    "    tau = np.zeros(model.nv)\n",
    "    pin.computeCollisions(model, data, geom_model, geom_data, q)\n",
    "    vf = v + DT * pin.aba(model, data, q, v, tau)\n",
    "\n",
    "    # Create contact models from collision\n",
    "    contact_models = createContactModelsFromCollisions(model,data,geom_model,geom_data)\n",
    "    contact_datas = [ cm.createData() for cm in contact_models ]\n",
    "    \n",
    "    nc = len(contact_models)\n",
    "    if nc==0:\n",
    "        # No collision, just integrate the free dynamics\n",
    "        v = vf\n",
    "    else:\n",
    "        # With at least one collision ...\n",
    "        # Compute mass matrix.\n",
    "        # (pin.crba should be enough in P3X, but CAT to be sure in P2X);\n",
    "        pin.computeAllTerms(model, data, q, v)\n",
    "        # The contact solver express the constraint in term of velocity of\n",
    "        # body 1 wrt to body 2. It is more intuitive to think to the opposite\n",
    "        # so take the negative jacobian (ie velocity of body 2 wrt body 1, whose\n",
    "        # normal component should be positive).\n",
    "        # Select only normal components of contact\n",
    "        # (frictionless slide on the tangent components, uncontrained)\n",
    "        J = -pin.getConstraintsJacobian(model, data, contact_models, contact_datas)[2::3,:]\n",
    "        assert(J.shape == (nc,model.nv))\n",
    "\n",
    "        Minv = pin.computeMinverse(model,data,q)\n",
    "        delasus = J@Minv@J.T\n",
    "\n",
    "        # ## TODO: formulate the dual LCQP to compute lambda\n",
    "        forces = np.zeros(delasus.shape[0])\n",
    "\n",
    "        # The next velocity results from the contact forces\n",
    "        vnext = v + DT * pin.aba(model, data, q, v, tau + J.T @ forces/DT)\n",
    "\n",
    "    # Finally, integrate the valocity\n",
    "    q = pin.integrate(model , q, v*DT)\n",
    "\n",
    "    # Visualize once in a while\n",
    "    if DT_VISU is not None and abs((t*DT) % DT_VISU)<=0.9*DT:\n",
    "        updateVisualObjects(model,data,contact_models,contact_datas,visual_model,viz)\n",
    "        viz.display(q)\n",
    "        time.sleep(DT_VISU)"
   ]
  },
  {
   "cell_type": "markdown",
   "id": "c242f3ae-20b5-4527-aef4-74ff0e67de56",
   "metadata": {},
   "source": [
    "Here is the dual formulation, should you need it."
   ]
  },
  {
   "cell_type": "code",
   "execution_count": 36,
   "id": "bd454cd9-63c1-4d18-89f9-b91ee9be023a",
   "metadata": {},
   "outputs": [],
   "source": [
    "%do_not_load_snippet tp5/generated/example_simu_frictionless_dual"
   ]
  },
  {
   "cell_type": "markdown",
   "id": "13f4ed87-15cc-43ce-9bf1-ce602cd33128",
   "metadata": {},
   "source": [
    "### Comparison: primal / dual"
   ]
  },
  {
   "cell_type": "markdown",
   "id": "c38d93d5-ecb3-44ad-863a-a1c277ee2eee",
   "metadata": {},
   "source": [
    "Once you have implemented both primal and dual formulations, you can double check that the results are the same."
   ]
  },
  {
   "cell_type": "code",
   "execution_count": 37,
   "id": "21bd7654-9203-46fd-a376-0141053ce464",
   "metadata": {},
   "outputs": [
    {
     "ename": "NameError",
     "evalue": "name 'qp2' is not defined",
     "output_type": "error",
     "traceback": [
      "\u001b[31m---------------------------------------------------------------------------\u001b[39m",
      "\u001b[31mNameError\u001b[39m                                 Traceback (most recent call last)",
      "\u001b[36mCell\u001b[39m\u001b[36m \u001b[39m\u001b[32mIn[37]\u001b[39m\u001b[32m, line 3\u001b[39m\n\u001b[32m      1\u001b[39m \u001b[38;5;66;03m# %load tp5/generated/example_simu_frictionless_check\u001b[39;00m\n\u001b[32m      2\u001b[39m \u001b[38;5;66;03m# Check QP2 primal vs QP1 dual\u001b[39;00m\n\u001b[32m----> \u001b[39m\u001b[32m3\u001b[39m \u001b[38;5;28;01massert\u001b[39;00m np.allclose(\u001b[43mqp2\u001b[49m.results.x, -qp1.results.z, rtol=\u001b[32m1e-3\u001b[39m, atol=\u001b[32m1e-4\u001b[39m)\n\u001b[32m      4\u001b[39m \u001b[38;5;66;03m# Check QP2 constraint vs QP1 constraint\u001b[39;00m\n\u001b[32m      5\u001b[39m \u001b[38;5;28;01massert\u001b[39;00m np.allclose(\n\u001b[32m      6\u001b[39m     delasus @ qp2.results.x + J @ vf, J @ qp1.results.x, rtol=\u001b[32m1\u001b[39m, atol=\u001b[32m1e-5\u001b[39m\n\u001b[32m      7\u001b[39m )\n",
      "\u001b[31mNameError\u001b[39m: name 'qp2' is not defined"
     ]
    }
   ],
   "source": [
    "# %load tp5/generated/example_simu_frictionless_check\n",
    "# Check QP2 primal vs QP1 dual\n",
    "assert np.allclose(qp2.results.x, -qp1.results.z, rtol=1e-3, atol=1e-4)\n",
    "# Check QP2 constraint vs QP1 constraint\n",
    "assert np.allclose(\n",
    "    delasus @ qp2.results.x + J @ vf, J @ qp1.results.x, rtol=1, atol=1e-5\n",
    ")\n"
   ]
  }
 ],
 "metadata": {
  "kernelspec": {
   "display_name": "RobotskiSistemi",
   "language": "python",
   "name": "python3"
  },
  "language_info": {
   "codemirror_mode": {
    "name": "ipython",
    "version": 3
   },
   "file_extension": ".py",
   "mimetype": "text/x-python",
   "name": "python",
   "nbconvert_exporter": "python",
   "pygments_lexer": "ipython3",
   "version": "3.12.3"
  }
 },
 "nbformat": 4,
 "nbformat_minor": 5
}
